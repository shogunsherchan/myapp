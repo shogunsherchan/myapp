{
 "cells": [
  {
   "cell_type": "markdown",
   "metadata": {},
   "source": [
    "Lesson 9: Data wrangling with Pandas\n",
    "====================\n",
    "---\n",
    "Prof. James Sharpnack<br>\n",
    "Statistics Department, UC Davis<br>\n",
    "&copy; 2018"
   ]
  },
  {
   "cell_type": "markdown",
   "metadata": {},
   "source": [
    "## Indexing and Timeseries\n",
    "\n",
    "We have talked abstractly about indexing, but it is fundamental to Pandas, so we should probably look at it in greater detail.  One common paradym is indexing by a datetime.\n",
    "The index does not necessarily have to give you a unique row, and so when you select a datetime using `loc` then it'll return multiple records.  The advantage of an index is that it makes merging, combining, and joinging tables make sense.  For example, if you want to add the number of passengers that fly out of two airports within each month but summing two dataframes corresponding to the airports, then this can make that easy.  In the next lesson we will see how you can join, query, etc. and for that indexing will be critical.\n",
    "\n",
    "**Checkpoint:** Skim the <a href=\"http://pandas.pydata.org/pandas-docs/stable/timeseries.html\">section on timeseries</a> and <a href=\"http://pandas.pydata.org/pandas-docs/stable/indexing.html\">section on indexing</a>.\n",
    "\n",
    "You can use multiple indices by setting multiple variables to be indices.  Then the indices are hierarchical, lookups work by narrowing down the records by the first index and then using the second index, etc.  Then typically, if you want to use methods like `groupby` you have to specify the level of the indices that you would like to group by.\n",
    "\n",
    "**Checkpoint:** Read over the <a href=\"http://pandas.pydata.org/pandas-docs/stable/advanced.html\">multiindex documentation</a>. "
   ]
  },
  {
   "cell_type": "markdown",
   "metadata": {},
   "source": [
    "## Groupby, Join\n",
    "\n",
    "The `groupby` method makes it easy to group the dataframe by a variable.  In the next example, we have a dataset of voting results by precinct, and there are many precincts in a county, then we can group the precincts by county.  The result of `groupby` is a groupby object to which you can aggregate with `sum, count, std, etc.`.  So you can sum the values of all variables for all distinct values of 'GVar' by doing `DF.groupby(by='GVar').sum()` which first groups the record by the county and then sums all of the records in a county.  The result is a dataframe where each record corresponds to a county.  This example aggregates, but you can also apply transformations and filter by group.\n",
    "\n",
    "**Checkpoint:** Read over the <a href=\"http://pandas.pydata.org/pandas-docs/stable/groupby.html\">groupby doc page</a>.\n",
    "\n",
    "Suppose you have two datasets that you need to combine.  If the dataframes share an indexing variable, then you can join these by that index.  Call one dataset the left and the other the right dataframe.  Then what happens when multiple matches occur for a given record in the left or the right dataframe?  This depends on how you want to join.  If you do a left join then it returns a dataframe with the same size as the left dataframe, and the variables from the right dataframe.  When no match occurs then the right variables are filled with NaN.  Right join works in the opposite way.  Inner join is similar except that it will not return records that do not have a match.  Outer join can be thought of the union of the dataframes, returning a record if either records exist in the left and right dataframes.  A nice visualization with corresponding SQL code can be found <a href=\"https://www.codeproject.com/kb/database/visual_sql_joins.aspx\">here</a>.  `left.join(right)` joins the left dataframe to the right dataframe by the index using left join.\n",
    "\n",
    "**Checkpoint:** Read the <a href=\"http://pandas.pydata.org/pandas-docs/stable/merging.html\">section on Join in the Pandas doc</a>."
   ]
  }
 ],
 "metadata": {
  "kernelspec": {
   "display_name": "Python 3",
   "language": "python",
   "name": "python3"
  },
  "language_info": {
   "codemirror_mode": {
    "name": "ipython",
    "version": 3
   },
   "file_extension": ".py",
   "mimetype": "text/x-python",
   "name": "python",
   "nbconvert_exporter": "python",
   "pygments_lexer": "ipython3",
   "version": "3.6.1"
  }
 },
 "nbformat": 4,
 "nbformat_minor": 2
}
