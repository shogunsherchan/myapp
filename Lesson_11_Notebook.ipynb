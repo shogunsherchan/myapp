{
 "cells": [
  {
   "cell_type": "markdown",
   "metadata": {},
   "source": [
    "# kNN classification of text documents"
   ]
  },
  {
   "cell_type": "code",
   "execution_count": 1,
   "metadata": {
    "collapsed": true
   },
   "outputs": [],
   "source": [
    "import numpy as np\n",
    "import nltk\n",
    "from nltk import corpus\n",
    "from nltk.stem.porter import PorterStemmer\n",
    "from sklearn.feature_extraction.text import TfidfVectorizer\n",
    "from sklearn.neighbors import NearestNeighbors\n",
    "from matplotlib import pyplot as plt\n",
    "plt.style.use('ggplot')\n",
    "%matplotlib inline"
   ]
  },
  {
   "cell_type": "code",
   "execution_count": 2,
   "metadata": {
    "collapsed": true
   },
   "outputs": [],
   "source": [
    "#To access the reuters corpus you will need to run this and download it\n",
    "# nltk.download()"
   ]
  },
  {
   "cell_type": "markdown",
   "metadata": {},
   "source": [
    "Let's define the lemmatization process, which in this case will just be tokenization and stemming.  I conclude by constructing the lemmatize function with takes a text document and outputs it as a list of lemmas."
   ]
  },
  {
   "cell_type": "code",
   "execution_count": 3,
   "metadata": {},
   "outputs": [
    {
     "name": "stdout",
     "output_type": "stream",
     "text": [
      "commerci commerci\n"
     ]
    }
   ],
   "source": [
    "fids = corpus.reuters.fileids()\n",
    "\n",
    "stemmer = PorterStemmer().stem\n",
    "print(stemmer(\"commercially\"), stemmer(\"commercial\"))\n",
    "\n",
    "tokenize = nltk.word_tokenize\n",
    "\n",
    "def stem(tokens,stemmer = PorterStemmer().stem):\n",
    "    return [stemmer(w.lower()) for w in tokens] \n",
    "\n",
    "def lemmatize(text):\n",
    "    \"\"\"\n",
    "    Extract simple lemmas based on tokenization and stemming\n",
    "    Input: string\n",
    "    Output: list of strings (lemmata)\n",
    "    \"\"\"\n",
    "    return stem(tokenize(text))"
   ]
  },
  {
   "cell_type": "markdown",
   "metadata": {},
   "source": [
    "Let's look at some elements of our corpus.  The following is a short article about export, and in the next line you can see that it is in the 'trade' category."
   ]
  },
  {
   "cell_type": "code",
   "execution_count": 4,
   "metadata": {},
   "outputs": [
    {
     "data": {
      "text/plain": [
       "'ASIAN EXPORTERS FEAR DAMAGE FROM U.S.-JAPAN RIFT\\n  Mounting trade friction between the\\n  U.S. And Japan has raised fears among many of Asia\\'s exporting\\n  nations that the row could inflict far-reaching economic\\n  damage, businessmen and officials said.\\n      They told Reuter correspondents in Asian capitals a U.S.\\n  Move against Japan might boost protectionist sentiment in the\\n  U.S. And lead to curbs on American imports of their products.\\n      But some exporters said that while the conflict would hurt\\n  them in the long-run, in the short-term Tokyo\\'s loss might be\\n  their gain.\\n      The U.S. Has said it will impose 300 mln dlrs of tariffs on\\n  imports of Japanese electronics goods on April 17, in\\n  retaliation for Japan\\'s alleged failure to stick to a pact not\\n  to sell semiconductors on world markets at below cost.\\n      Unofficial Japanese estimates put the impact of the tariffs\\n  at 10 billion dlrs and spokesmen for major electronics firms\\n  said they would virtually halt exports of products hit by the\\n  new taxes.\\n      \"We wouldn\\'t be able to do business,\" said a spokesman for\\n  leading Japanese electronics firm Matsushita Electric\\n  Industrial Co Ltd &lt;MC.T>.\\n      \"If the tariffs remain in place for any length of time\\n  beyond a few months it will mean the complete erosion of\\n  exports (of goods subject to tariffs) to the U.S.,\" said Tom\\n  Murtha, a stock analyst at the Tokyo office of broker &lt;James\\n  Capel and Co>.\\n      In Taiwan, businessmen and officials are also worried.\\n      \"We are aware of the seriousness of the U.S. Threat against\\n  Japan because it serves as a warning to us,\" said a senior\\n  Taiwanese trade official who asked not to be named.\\n      Taiwan had a trade trade surplus of 15.6 billion dlrs last\\n  year, 95 pct of it with the U.S.\\n      The surplus helped swell Taiwan\\'s foreign exchange reserves\\n  to 53 billion dlrs, among the world\\'s largest.\\n      \"We must quickly open our markets, remove trade barriers and\\n  cut import tariffs to allow imports of U.S. Products, if we\\n  want to defuse problems from possible U.S. Retaliation,\" said\\n  Paul Sheen, chairman of textile exporters &lt;Taiwan Safe Group>.\\n      A senior official of South Korea\\'s trade promotion\\n  association said the trade dispute between the U.S. And Japan\\n  might also lead to pressure on South Korea, whose chief exports\\n  are similar to those of Japan.\\n      Last year South Korea had a trade surplus of 7.1 billion\\n  dlrs with the U.S., Up from 4.9 billion dlrs in 1985.\\n      In Malaysia, trade officers and businessmen said tough\\n  curbs against Japan might allow hard-hit producers of\\n  semiconductors in third countries to expand their sales to the\\n  U.S.\\n      In Hong Kong, where newspapers have alleged Japan has been\\n  selling below-cost semiconductors, some electronics\\n  manufacturers share that view. But other businessmen said such\\n  a short-term commercial advantage would be outweighed by\\n  further U.S. Pressure to block imports.\\n      \"That is a very short-term view,\" said Lawrence Mills,\\n  director-general of the Federation of Hong Kong Industry.\\n      \"If the whole purpose is to prevent imports, one day it will\\n  be extended to other sources. Much more serious for Hong Kong\\n  is the disadvantage of action restraining trade,\" he said.\\n      The U.S. Last year was Hong Kong\\'s biggest export market,\\n  accounting for over 30 pct of domestically produced exports.\\n      The Australian government is awaiting the outcome of trade\\n  talks between the U.S. And Japan with interest and concern,\\n  Industry Minister John Button said in Canberra last Friday.\\n      \"This kind of deterioration in trade relations between two\\n  countries which are major trading partners of ours is a very\\n  serious matter,\" Button said.\\n      He said Australia\\'s concerns centred on coal and beef,\\n  Australia\\'s two largest exports to Japan and also significant\\n  U.S. Exports to that country.\\n      Meanwhile U.S.-Japanese diplomatic manoeuvres to solve the\\n  trade stand-off continue.\\n      Japan\\'s ruling Liberal Democratic Party yesterday outlined\\n  a package of economic measures to boost the Japanese economy.\\n      The measures proposed include a large supplementary budget\\n  and record public works spending in the first half of the\\n  financial year.\\n      They also call for stepped-up spending as an emergency\\n  measure to stimulate the economy despite Prime Minister\\n  Yasuhiro Nakasone\\'s avowed fiscal reform program.\\n      Deputy U.S. Trade Representative Michael Smith and Makoto\\n  Kuroda, Japan\\'s deputy minister of International Trade and\\n  Industry (MITI), are due to meet in Washington this week in an\\n  effort to end the dispute.\\n  \\n\\n'"
      ]
     },
     "execution_count": 4,
     "metadata": {},
     "output_type": "execute_result"
    }
   ],
   "source": [
    "corpus.reuters.raw(fids[0])"
   ]
  },
  {
   "cell_type": "code",
   "execution_count": 5,
   "metadata": {},
   "outputs": [
    {
     "data": {
      "text/plain": [
       "['trade']"
      ]
     },
     "execution_count": 5,
     "metadata": {},
     "output_type": "execute_result"
    }
   ],
   "source": [
    "corpus.reuters.categories(fids[0])"
   ]
  },
  {
   "cell_type": "code",
   "execution_count": 6,
   "metadata": {
    "collapsed": true
   },
   "outputs": [],
   "source": [
    "reuters = [corpus.reuters.raw(f) for f in fids]"
   ]
  },
  {
   "cell_type": "markdown",
   "metadata": {},
   "source": [
    "Quite often you need ways of converting from document ids to integer ids, lemmas to integer ids, and from the lemmas to the documents containing them.  Let's construct the relevant dictionaries."
   ]
  },
  {
   "cell_type": "code",
   "execution_count": 7,
   "metadata": {
    "collapsed": true
   },
   "outputs": [],
   "source": [
    "textd = {} #dictionary from lemmata to document ids containing that lemma\n",
    "for fid in fids:\n",
    "    t = corpus.reuters.raw(fid)\n",
    "    s = set(lemmatize(t))\n",
    "    try:\n",
    "        toks = toks | s\n",
    "    except NameError:\n",
    "        toks = s\n",
    "    for tok in s:\n",
    "        try:\n",
    "            textd[tok].append(fid)\n",
    "        except KeyError:\n",
    "            textd[tok] = [fid]"
   ]
  },
  {
   "cell_type": "code",
   "execution_count": 8,
   "metadata": {
    "collapsed": true
   },
   "outputs": [],
   "source": [
    "docids = {} #dictionary of the document id to an integer id for the document\n",
    "N = len(fids)\n",
    "for i in range(N):\n",
    "    docids[fids[i]] = i"
   ]
  },
  {
   "cell_type": "code",
   "execution_count": 9,
   "metadata": {
    "collapsed": true
   },
   "outputs": [],
   "source": [
    "tokids = {} #dictionary of lemma to integer id for the lemma\n",
    "tok_list = list(toks)\n",
    "m = len(tok_list)\n",
    "for j in range(m):\n",
    "    tokids[tok_list[j]] = j"
   ]
  },
  {
   "cell_type": "markdown",
   "metadata": {},
   "source": [
    "Let's construct the smoothed idf transform.  Let $N$ be the number of documents, and $n(lemma)$ be the number of documents containing the lemma.\n",
    "$$idf(lemma) = log(N / (1 + n(lemma)))$$"
   ]
  },
  {
   "cell_type": "code",
   "execution_count": 10,
   "metadata": {
    "collapsed": true
   },
   "outputs": [],
   "source": [
    "numd = {key:len(set(val)) for key,val in textd.items()}"
   ]
  },
  {
   "cell_type": "code",
   "execution_count": 11,
   "metadata": {
    "collapsed": true
   },
   "outputs": [],
   "source": [
    "logN = np.log(len(fids))"
   ]
  },
  {
   "cell_type": "code",
   "execution_count": 12,
   "metadata": {
    "collapsed": true
   },
   "outputs": [],
   "source": [
    "idf_smooth = {key:logN - np.log(1 + val) for key, val in numd.items() if val > 1}"
   ]
  },
  {
   "cell_type": "code",
   "execution_count": 13,
   "metadata": {
    "collapsed": true
   },
   "outputs": [],
   "source": [
    "idfvals = np.array([v for a,v in idf_smooth.items()])"
   ]
  },
  {
   "cell_type": "code",
   "execution_count": 14,
   "metadata": {},
   "outputs": [
    {
     "data": {
      "text/plain": [
       "array([ 2.24916207,  0.43954887,  4.66121687, ...,  8.1875774 ,\n",
       "        8.1875774 ,  8.1875774 ])"
      ]
     },
     "execution_count": 14,
     "metadata": {},
     "output_type": "execute_result"
    }
   ],
   "source": [
    "idfvals"
   ]
  },
  {
   "cell_type": "code",
   "execution_count": 15,
   "metadata": {},
   "outputs": [
    {
     "data": {
      "image/png": "[encoded data removed]",
      "text/plain": [
       "<matplotlib.figure.Figure at 0x7ddd8a038da0>"
      ]
     },
     "metadata": {},
     "output_type": "display_data"
    }
   ],
   "source": [
    "_ = plt.hist(idfvals,bins=20)"
   ]
  },
  {
   "cell_type": "markdown",
   "metadata": {},
   "source": [
    "In order to form a idf weighted similarity we'll use the built in TfidfVectorizer method from scikit-learn.  This will construct the full tfidf transform as a N times m matrix, where N is the number of documents and m is the number of lemmas."
   ]
  },
  {
   "cell_type": "code",
   "execution_count": 16,
   "metadata": {
    "collapsed": true
   },
   "outputs": [],
   "source": [
    "vectorizer = TfidfVectorizer(tokenizer=lemmatize,stop_words=\"english\",smooth_idf=True,norm=None)\n",
    "\n",
    "tfs = vectorizer.fit_transform(reuters)"
   ]
  },
  {
   "cell_type": "code",
   "execution_count": 17,
   "metadata": {
    "collapsed": true
   },
   "outputs": [],
   "source": [
    "sim = tfs.dot(tfs.T)"
   ]
  },
  {
   "cell_type": "code",
   "execution_count": 25,
   "metadata": {
    "collapsed": true
   },
   "outputs": [],
   "source": [
    "tok = tok_list[930]"
   ]
  },
  {
   "cell_type": "code",
   "execution_count": 26,
   "metadata": {},
   "outputs": [
    {
     "data": {
      "text/plain": [
       "'verac'"
      ]
     },
     "execution_count": 26,
     "metadata": {},
     "output_type": "execute_result"
    }
   ],
   "source": [
    "tok"
   ]
  },
  {
   "cell_type": "code",
   "execution_count": 27,
   "metadata": {
    "collapsed": true
   },
   "outputs": [],
   "source": [
    "reu_label = [1*('earn' in corpus.reuters.categories(fid)) for fid in fids]"
   ]
  },
  {
   "cell_type": "code",
   "execution_count": 28,
   "metadata": {
    "collapsed": true
   },
   "outputs": [],
   "source": [
    "testdocs = [docids[tname] for tname in textd[tok]]"
   ]
  },
  {
   "cell_type": "code",
   "execution_count": 29,
   "metadata": {},
   "outputs": [
    {
     "data": {
      "text/plain": [
       "[1534, 1604]"
      ]
     },
     "execution_count": 29,
     "metadata": {},
     "output_type": "execute_result"
    }
   ],
   "source": [
    "testdocs"
   ]
  },
  {
   "cell_type": "code",
   "execution_count": 30,
   "metadata": {},
   "outputs": [
    {
     "name": "stdout",
     "output_type": "stream",
     "text": [
      "  (0, 0)\t1504.96115843\n",
      "  (0, 1)\t1602.52774812\n"
     ]
    }
   ],
   "source": [
    "print(sim[testdocs[0],testdocs])"
   ]
  },
  {
   "cell_type": "code",
   "execution_count": 33,
   "metadata": {},
   "outputs": [
    {
     "name": "stdout",
     "output_type": "stream",
     "text": [
      "BALL CORP &lt;BLL> COMPLETES ACQUISITION OF VERAC\n",
      "  Ball Corp said it completed the\n",
      "  acquisition of privately held Verac Inc.\n",
      "      Terms were not disclosed.\n",
      "      The company said the San Diego-based defense systems and\n",
      "  software development company had sales of about 23 mln dlrs in\n",
      "  1986 and will operate as part of Ball's technical products\n",
      "  group.\n",
      "  \n",
      "\n",
      "\n"
     ]
    }
   ],
   "source": [
    "print(reuters[testdocs[0]])"
   ]
  },
  {
   "cell_type": "code",
   "execution_count": 34,
   "metadata": {},
   "outputs": [
    {
     "name": "stdout",
     "output_type": "stream",
     "text": [
      "BALL CORP &lt;BLL> COMPLETES ACQUISITION\n",
      "  Ball Corp said it completed the\n",
      "  purchase of privately held &lt;Verac Inc>, a San Diego defense\n",
      "  systems and software development company.\n",
      "      Terms of the acquisition were not disclosed. Verac had 1986\n",
      "  sales of about 23 mln dlrs.\n",
      "      Verac will operate in San Diego as part of Ball's technical\n",
      "  products group.\n",
      "  \n",
      "\n",
      "\n"
     ]
    }
   ],
   "source": [
    "print(reuters[testdocs[1]])"
   ]
  },
  {
   "cell_type": "markdown",
   "metadata": {},
   "source": [
    "Finally, we can find the nearest neighbors of each document (excluding itself).  Let us define the precision as the percentage of documents classified correctly in this way."
   ]
  },
  {
   "cell_type": "code",
   "execution_count": 58,
   "metadata": {
    "collapsed": true
   },
   "outputs": [],
   "source": [
    "k_max = 20\n",
    "nbrs = NearestNeighbors(n_neighbors=k_max).fit(tfs)\n",
    "err_list = []\n",
    "\n",
    "for k in range(1,k_max+1,2):\n",
    "    neighmat = nbrs.kneighbors_graph(n_neighbors=k)\n",
    "    pred_lab = (neighmat.dot(reu_label) > k/2.)*1 #Why should this be knn classification?\n",
    "    err =  np.mean(pred_lab != reu_label)\n",
    "    err_list.append(err)"
   ]
  },
  {
   "cell_type": "code",
   "execution_count": 59,
   "metadata": {},
   "outputs": [
    {
     "data": {
      "text/plain": [
       "<matplotlib.text.Text at 0x184af080>"
      ]
     },
     "execution_count": 59,
     "metadata": {},
     "output_type": "execute_result"
    },
    {
     "data": {
      "image/png": "[encoded data removed]",
      "text/plain": [
       "<matplotlib.figure.Figure at 0x1794bd30>"
      ]
     },
     "metadata": {},
     "output_type": "display_data"
    }
   ],
   "source": [
    "plt.plot(range(1,k_max + 1,2),err_list)\n",
    "plt.xlabel('k')\n",
    "plt.ylabel('LOO Error Rate')"
   ]
  },
  {
   "cell_type": "markdown",
   "metadata": {},
   "source": [
    "Let's also use the bigrams as the tokens for the tfidf nearest neighbor classification.  First, I'll replace the old tokenizer with a bigram version of it."
   ]
  },
  {
   "cell_type": "code",
   "execution_count": 49,
   "metadata": {
    "collapsed": true
   },
   "outputs": [],
   "source": [
    "bigramitize = lambda text: [a + ' ' + b for a,b in nltk.bigrams(lemmatize(text))]"
   ]
  },
  {
   "cell_type": "code",
   "execution_count": 50,
   "metadata": {
    "collapsed": true
   },
   "outputs": [],
   "source": [
    "vectorizer = TfidfVectorizer(tokenizer=bigramitize,stop_words=\"english\",smooth_idf=True,norm=None)\n",
    "bitfs = vectorizer.fit_transform(reuters)"
   ]
  },
  {
   "cell_type": "code",
   "execution_count": 55,
   "metadata": {
    "collapsed": true
   },
   "outputs": [],
   "source": [
    "k_max = 20\n",
    "nbrs = NearestNeighbors(n_neighbors=k_max).fit(bitfs)\n",
    "err_list = []\n",
    "\n",
    "for k in xrange(1,k_max+1,2):\n",
    "    neighmat = nbrs.kneighbors_graph(n_neighbors=k)\n",
    "    pred_lab = (neighmat.dot(reu_label) > k/2.)*1 \n",
    "    err =  np.mean(pred_lab != reu_label)\n",
    "    err_list.append(err)"
   ]
  },
  {
   "cell_type": "code",
   "execution_count": 56,
   "metadata": {},
   "outputs": [
    {
     "data": {
      "text/plain": [
       "<matplotlib.text.Text at 0x1750f978>"
      ]
     },
     "execution_count": 56,
     "metadata": {},
     "output_type": "execute_result"
    },
    {
     "data": {
      "image/png": "[encoded data removed]",
      "text/plain": [
       "<matplotlib.figure.Figure at 0x16e8e588>"
      ]
     },
     "metadata": {},
     "output_type": "display_data"
    }
   ],
   "source": [
    "plt.plot(range(1,k_max + 1,2),err_list)\n",
    "plt.xlabel('k')\n",
    "plt.ylabel('LOO Error Rate')"
   ]
  },
  {
   "cell_type": "markdown",
   "metadata": {},
   "source": [
    "The conclusion is that the word content provides a better similarity measure than the bigram content.  This is probably because there is not sufficient overlap between document bigrams."
   ]
  }
 ],
 "metadata": {
  "anaconda-cloud": {},
  "kernelspec": {
   "display_name": "Python 3",
   "language": "python",
   "name": "python3"
  },
  "language_info": {
   "codemirror_mode": {
    "name": "ipython",
    "version": 3
   },
   "file_extension": ".py",
   "mimetype": "text/x-python",
   "name": "python",
   "nbconvert_exporter": "python",
   "pygments_lexer": "ipython3",
   "version": "3.6.1"
  }
 },
 "nbformat": 4,
 "nbformat_minor": 1
}
