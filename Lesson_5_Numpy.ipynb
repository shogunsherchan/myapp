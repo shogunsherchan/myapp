{
 "cells": [
  {
   "cell_type": "markdown",
   "metadata": {},
   "source": [
    "Lesson 5: Matrices and Numpy\n",
    "====================\n",
    "---\n",
    "Prof. James Sharpnack<br>\n",
    "Statistics Department, UC Davis<br>\n",
    "&copy; 2017"
   ]
  },
  {
   "cell_type": "markdown",
   "metadata": {},
   "source": [
    "## Summary and reading\n",
    "\n",
    "Linear algebra is a powerful mathematical toolbox, and it is commonly listed as a necessary skill for data science and machine learning. We will deal with matrices and vectors in a less abstract way than in a pure math class. Namely, for our purposes, a matrix is a 2-dimensional array of numbers and a vector is a 1-dimensional array of numbers. We want to be able to easily do common operations like dot products, matrix multiplication, and element-wise operations. There are two reasons why we use the package numpy for this: one is that it is fast due to vectorization, the other is that most other packages that need linear algebra are based on numpy.\n",
    "\n",
    "Vectorization is when you apply the same operations to each element of an array. In the first video we saw that using numpy dot product sped up an operation by another order of magnitude over an implementation with for loops. You should always vectorize something whenever possible, and you may have to get creative to do it. When you write a for loop, then you should think to yourself, could this be vectorized with arrays? \n",
    "\n",
    "The basic numpy object is the numpy.array which is much like the array.array object except that it has all of the linear algebra methods available.  For example, the array allows us to reshape it and slice it in a flexible way. This should be familiar to R users, in that the slicing can take a range, list, or boolean vector as it's input. Remember though that indexing in python starts at 0!  \n",
    "\n",
    "**Checkpoint:** You should read [**The Basics** in this tutorial](https://docs.scipy.org/doc/numpy-dev/user/quickstart.html) and focus on initializing a matrix, printing, slicing, and dot products."
   ]
  }
 ],
 "metadata": {
  "kernelspec": {
   "display_name": "Python 3",
   "language": "python",
   "name": "python3"
  },
  "language_info": {
   "codemirror_mode": {
    "name": "ipython",
    "version": 3
   },
   "file_extension": ".py",
   "mimetype": "text/x-python",
   "name": "python",
   "nbconvert_exporter": "python",
   "pygments_lexer": "ipython3",
   "version": "3.6.1"
  }
 },
 "nbformat": 4,
 "nbformat_minor": 2
}
