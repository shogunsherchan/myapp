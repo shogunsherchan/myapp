{
 "cells": [
  {
   "cell_type": "markdown",
   "metadata": {},
   "source": [
    "# Petfinder API\n",
    "We found our dog Emmy (a mixed breed herding dog named after the German mathematician Emmy Noether) on petfinder.com.\n",
    "They also provide an API, which let's you access their data in your own applications, and here on Jupyter."
   ]
  },
  {
   "cell_type": "code",
   "execution_count": 14,
   "metadata": {},
   "outputs": [],
   "source": [
    "import requests\n",
    "import requests_cache\n",
    "import pandas as pd\n",
    "from matplotlib import pyplot as plt\n",
    "plt.style.use('ggplot')\n",
    "%matplotlib inline\n",
    "requests_cache.install_cache('pet_cache')"
   ]
  },
  {
   "cell_type": "code",
   "execution_count": 83,
   "metadata": {
    "collapsed": true
   },
   "outputs": [],
   "source": [
    "key = \"12345\" #get your own key!"
   ]
  },
  {
   "cell_type": "markdown",
   "metadata": {},
   "source": [
    "Let's get the dog breeds from petfinder.  The breed_uri variable specifies my key (you will need your own), the method that I want to use, breed.list, the species, and the format of the output (JSON).  This format is specific to the petfinder api (<a href=\"https://www.petfinder.com/developers/api-docs\">you can look at the documentation</a>)."
   ]
  },
  {
   "cell_type": "code",
   "execution_count": 84,
   "metadata": {},
   "outputs": [
    {
     "name": "stdout",
     "output_type": "stream",
     "text": [
      "http://api.petfinder.com/breed.list?key=12345&animal=dog&format=json\n"
     ]
    }
   ],
   "source": [
    "breed_uri = \"http://api.petfinder.com/breed.list?key={}&animal=dog&format=json\".format(key)\n",
    "print(breed_uri)"
   ]
  },
  {
   "cell_type": "code",
   "execution_count": 16,
   "metadata": {},
   "outputs": [],
   "source": [
    "req = requests.get(breed_uri)\n",
    "js = req.json()"
   ]
  },
  {
   "cell_type": "markdown",
   "metadata": {},
   "source": [
    "The output is a JSON object, which is really just dictionaries and lists.  So, it will be a dictionary that could have values as dictionaries or lists.  These lists can then have dictionaries as elements, and so on.  Turtles all the way down."
   ]
  },
  {
   "cell_type": "code",
   "execution_count": 17,
   "metadata": {},
   "outputs": [
    {
     "name": "stdout",
     "output_type": "stream",
     "text": [
      "dict_keys(['@encoding', '@version', 'petfinder'])\n"
     ]
    }
   ],
   "source": [
    "print(js.keys())"
   ]
  },
  {
   "cell_type": "code",
   "execution_count": 296,
   "metadata": {},
   "outputs": [
    {
     "data": {
      "text/plain": [
       "[u'header', u'@xmlns:xsi', u'@xsi:noNamespaceSchemaLocation', u'breeds']"
      ]
     },
     "execution_count": 296,
     "metadata": {},
     "output_type": "execute_result"
    }
   ],
   "source": [
    "js[u'petfinder'].keys()"
   ]
  },
  {
   "cell_type": "code",
   "execution_count": 18,
   "metadata": {},
   "outputs": [
    {
     "data": {
      "text/plain": [
       "{'@animal': 'dog',\n",
       " 'breed': [{'$t': 'Affenpinscher'},\n",
       "  {'$t': 'Afghan Hound'},\n",
       "  {'$t': 'Airedale Terrier'},\n",
       "  {'$t': 'Akbash'},\n",
       "  {'$t': 'Akita'},\n",
       "  {'$t': 'Alaskan Malamute'},\n",
       "  {'$t': 'American Bulldog'},\n",
       "  {'$t': 'American Eskimo Dog'},\n",
       "  {'$t': 'American Hairless Terrier'},\n",
       "  {'$t': 'American Staffordshire Terrier'},\n",
       "  {'$t': 'American Water Spaniel'},\n",
       "  {'$t': 'Anatolian Shepherd'},\n",
       "  {'$t': 'Appenzell Mountain Dog'},\n",
       "  {'$t': 'Australian Cattle Dog / Blue Heeler'},\n",
       "  {'$t': 'Australian Kelpie'},\n",
       "  {'$t': 'Australian Shepherd'},\n",
       "  {'$t': 'Australian Terrier'},\n",
       "  {'$t': 'Basenji'},\n",
       "  {'$t': 'Basset Hound'},\n",
       "  {'$t': 'Beagle'},\n",
       "  {'$t': 'Bearded Collie'},\n",
       "  {'$t': 'Beauceron'},\n",
       "  {'$t': 'Bedlington Terrier'},\n",
       "  {'$t': 'Belgian Shepherd / Laekenois'},\n",
       "  {'$t': 'Belgian Shepherd / Malinois'},\n",
       "  {'$t': 'Belgian Shepherd / Sheepdog'},\n",
       "  {'$t': 'Belgian Shepherd / Tervuren'},\n",
       "  {'$t': 'Bernese Mountain Dog'},\n",
       "  {'$t': 'Bichon Frise'},\n",
       "  {'$t': 'Black and Tan Coonhound'},\n",
       "  {'$t': 'Black Labrador Retriever'},\n",
       "  {'$t': 'Black Mouth Cur'},\n",
       "  {'$t': 'Black Russian Terrier'},\n",
       "  {'$t': 'Bloodhound'},\n",
       "  {'$t': 'Blue Lacy'},\n",
       "  {'$t': 'Bluetick Coonhound'},\n",
       "  {'$t': 'Boerboel'},\n",
       "  {'$t': 'Bolognese'},\n",
       "  {'$t': 'Border Collie'},\n",
       "  {'$t': 'Border Terrier'},\n",
       "  {'$t': 'Borzoi'},\n",
       "  {'$t': 'Boston Terrier'},\n",
       "  {'$t': 'Bouvier des Flanders'},\n",
       "  {'$t': 'Boxer'},\n",
       "  {'$t': 'Boykin Spaniel'},\n",
       "  {'$t': 'Briard'},\n",
       "  {'$t': 'Brittany Spaniel'},\n",
       "  {'$t': 'Brussels Griffon'},\n",
       "  {'$t': 'Bull Terrier'},\n",
       "  {'$t': 'Bullmastiff'},\n",
       "  {'$t': 'Cairn Terrier'},\n",
       "  {'$t': 'Canaan Dog'},\n",
       "  {'$t': 'Cane Corso Mastiff'},\n",
       "  {'$t': 'Carolina Dog'},\n",
       "  {'$t': 'Catahoula Leopard Dog'},\n",
       "  {'$t': 'Cattle Dog'},\n",
       "  {'$t': 'Caucasian Sheepdog / Caucasian Ovtcharka'},\n",
       "  {'$t': 'Cavalier King Charles Spaniel'},\n",
       "  {'$t': 'Chesapeake Bay Retriever'},\n",
       "  {'$t': 'Chihuahua'},\n",
       "  {'$t': 'Chinese Crested Dog'},\n",
       "  {'$t': 'Chinese Foo Dog'},\n",
       "  {'$t': 'Chinook'},\n",
       "  {'$t': 'Chocolate Labrador Retriever'},\n",
       "  {'$t': 'Chow Chow'},\n",
       "  {'$t': \"Cirneco dell'Etna\"},\n",
       "  {'$t': 'Clumber Spaniel'},\n",
       "  {'$t': 'Cockapoo'},\n",
       "  {'$t': 'Cocker Spaniel'},\n",
       "  {'$t': 'Collie'},\n",
       "  {'$t': 'Coonhound'},\n",
       "  {'$t': 'Corgi'},\n",
       "  {'$t': 'Coton de Tulear'},\n",
       "  {'$t': 'Curly-Coated Retriever'},\n",
       "  {'$t': 'Dachshund'},\n",
       "  {'$t': 'Dalmatian'},\n",
       "  {'$t': 'Dandi Dinmont Terrier'},\n",
       "  {'$t': 'Doberman Pinscher'},\n",
       "  {'$t': 'Dogo Argentino'},\n",
       "  {'$t': 'Dogue de Bordeaux'},\n",
       "  {'$t': 'Dutch Shepherd'},\n",
       "  {'$t': 'English Bulldog'},\n",
       "  {'$t': 'English Cocker Spaniel'},\n",
       "  {'$t': 'English Coonhound'},\n",
       "  {'$t': 'English Pointer'},\n",
       "  {'$t': 'English Setter'},\n",
       "  {'$t': 'English Shepherd'},\n",
       "  {'$t': 'English Springer Spaniel'},\n",
       "  {'$t': 'English Toy Spaniel'},\n",
       "  {'$t': 'Entlebucher'},\n",
       "  {'$t': 'Eskimo Dog'},\n",
       "  {'$t': 'Feist'},\n",
       "  {'$t': 'Field Spaniel'},\n",
       "  {'$t': 'Fila Brasileiro'},\n",
       "  {'$t': 'Finnish Lapphund'},\n",
       "  {'$t': 'Finnish Spitz'},\n",
       "  {'$t': 'Flat-Coated Retriever'},\n",
       "  {'$t': 'Fox Terrier'},\n",
       "  {'$t': 'Foxhound'},\n",
       "  {'$t': 'French Bulldog'},\n",
       "  {'$t': 'Galgo Spanish Greyhound'},\n",
       "  {'$t': 'German Pinscher'},\n",
       "  {'$t': 'German Shepherd Dog'},\n",
       "  {'$t': 'German Shorthaired Pointer'},\n",
       "  {'$t': 'German Spitz'},\n",
       "  {'$t': 'German Wirehaired Pointer'},\n",
       "  {'$t': 'Giant Schnauzer'},\n",
       "  {'$t': 'Glen of Imaal Terrier'},\n",
       "  {'$t': 'Golden Retriever'},\n",
       "  {'$t': 'Gordon Setter'},\n",
       "  {'$t': 'Great Dane'},\n",
       "  {'$t': 'Great Pyrenees'},\n",
       "  {'$t': 'Greater Swiss Mountain Dog'},\n",
       "  {'$t': 'Greyhound'},\n",
       "  {'$t': 'Hamiltonstovare'},\n",
       "  {'$t': 'Harrier'},\n",
       "  {'$t': 'Havanese'},\n",
       "  {'$t': 'Hound'},\n",
       "  {'$t': 'Hovawart'},\n",
       "  {'$t': 'Husky'},\n",
       "  {'$t': 'Ibizan Hound'},\n",
       "  {'$t': 'Icelandic Sheepdog'},\n",
       "  {'$t': 'Illyrian Sheepdog'},\n",
       "  {'$t': 'Irish Setter'},\n",
       "  {'$t': 'Irish Terrier'},\n",
       "  {'$t': 'Irish Water Spaniel'},\n",
       "  {'$t': 'Irish Wolfhound'},\n",
       "  {'$t': 'Italian Greyhound'},\n",
       "  {'$t': 'Italian Spinone'},\n",
       "  {'$t': 'Jack Russell Terrier'},\n",
       "  {'$t': 'Jack Russell Terrier (Parson)'},\n",
       "  {'$t': 'Japanese Chin'},\n",
       "  {'$t': 'Jindo'},\n",
       "  {'$t': 'Kai Dog'},\n",
       "  {'$t': 'Karelian Bear Dog'},\n",
       "  {'$t': 'Keeshond'},\n",
       "  {'$t': 'Kerry Blue Terrier'},\n",
       "  {'$t': 'Kishu'},\n",
       "  {'$t': 'Klee Kai'},\n",
       "  {'$t': 'Komondor'},\n",
       "  {'$t': 'Kuvasz'},\n",
       "  {'$t': 'Kyi Leo'},\n",
       "  {'$t': 'Labrador Retriever'},\n",
       "  {'$t': 'Lakeland Terrier'},\n",
       "  {'$t': 'Lancashire Heeler'},\n",
       "  {'$t': 'Leonberger'},\n",
       "  {'$t': 'Lhasa Apso'},\n",
       "  {'$t': 'Lowchen'},\n",
       "  {'$t': 'Maltese'},\n",
       "  {'$t': 'Manchester Terrier'},\n",
       "  {'$t': 'Maremma Sheepdog'},\n",
       "  {'$t': 'Mastiff'},\n",
       "  {'$t': 'McNab'},\n",
       "  {'$t': 'Miniature Pinscher'},\n",
       "  {'$t': 'Miniature Schnauzer'},\n",
       "  {'$t': 'Mixed Breed'},\n",
       "  {'$t': 'Mountain Cur'},\n",
       "  {'$t': 'Mountain Dog'},\n",
       "  {'$t': 'Munsterlander'},\n",
       "  {'$t': 'Neapolitan Mastiff'},\n",
       "  {'$t': 'New Guinea Singing Dog'},\n",
       "  {'$t': 'Newfoundland Dog'},\n",
       "  {'$t': 'Norfolk Terrier'},\n",
       "  {'$t': 'Norwegian Buhund'},\n",
       "  {'$t': 'Norwegian Elkhound'},\n",
       "  {'$t': 'Norwegian Lundehund'},\n",
       "  {'$t': 'Norwich Terrier'},\n",
       "  {'$t': 'Nova Scotia Duck Tolling Retriever'},\n",
       "  {'$t': 'Old English Sheepdog'},\n",
       "  {'$t': 'Otterhound'},\n",
       "  {'$t': 'Papillon'},\n",
       "  {'$t': 'Patterdale Terrier / Fell Terrier'},\n",
       "  {'$t': 'Pekingese'},\n",
       "  {'$t': 'Peruvian Inca Orchid'},\n",
       "  {'$t': 'Petit Basset Griffon Vendeen'},\n",
       "  {'$t': 'Pharaoh Hound'},\n",
       "  {'$t': 'Pit Bull Terrier'},\n",
       "  {'$t': 'Plott Hound'},\n",
       "  {'$t': 'Podengo Portugueso'},\n",
       "  {'$t': 'Pointer'},\n",
       "  {'$t': 'Polish Lowland Sheepdog'},\n",
       "  {'$t': 'Pomeranian'},\n",
       "  {'$t': 'Poodle'},\n",
       "  {'$t': 'Portuguese Water Dog'},\n",
       "  {'$t': 'Presa Canario'},\n",
       "  {'$t': 'Pug'},\n",
       "  {'$t': 'Puli'},\n",
       "  {'$t': 'Pumi'},\n",
       "  {'$t': 'Rat Terrier'},\n",
       "  {'$t': 'Redbone Coonhound'},\n",
       "  {'$t': 'Retriever'},\n",
       "  {'$t': 'Rhodesian Ridgeback'},\n",
       "  {'$t': 'Rottweiler'},\n",
       "  {'$t': 'Rough Collie'},\n",
       "  {'$t': 'Saint Bernard / St. Bernard'},\n",
       "  {'$t': 'Saluki'},\n",
       "  {'$t': 'Samoyed'},\n",
       "  {'$t': 'Sarplaninac'},\n",
       "  {'$t': 'Schipperke'},\n",
       "  {'$t': 'Schnauzer'},\n",
       "  {'$t': 'Scottish Deerhound'},\n",
       "  {'$t': 'Scottish Terrier Scottie'},\n",
       "  {'$t': 'Sealyham Terrier'},\n",
       "  {'$t': 'Setter'},\n",
       "  {'$t': 'Shar Pei'},\n",
       "  {'$t': 'Sheep Dog'},\n",
       "  {'$t': 'Shepherd'},\n",
       "  {'$t': 'Shetland Sheepdog Sheltie'},\n",
       "  {'$t': 'Shiba Inu'},\n",
       "  {'$t': 'Shih Tzu'},\n",
       "  {'$t': 'Siberian Husky'},\n",
       "  {'$t': 'Silky Terrier'},\n",
       "  {'$t': 'Skye Terrier'},\n",
       "  {'$t': 'Sloughi'},\n",
       "  {'$t': 'Smooth Collie'},\n",
       "  {'$t': 'Smooth Fox Terrier'},\n",
       "  {'$t': 'South Russian Ovtcharka'},\n",
       "  {'$t': 'Spaniel'},\n",
       "  {'$t': 'Spanish Water Dog'},\n",
       "  {'$t': 'Spitz'},\n",
       "  {'$t': 'Staffordshire Bull Terrier'},\n",
       "  {'$t': 'Standard Poodle'},\n",
       "  {'$t': 'Standard Schnauzer'},\n",
       "  {'$t': 'Sussex Spaniel'},\n",
       "  {'$t': 'Swedish Vallhund'},\n",
       "  {'$t': 'Terrier'},\n",
       "  {'$t': 'Thai Ridgeback'},\n",
       "  {'$t': 'Tibetan Mastiff'},\n",
       "  {'$t': 'Tibetan Spaniel'},\n",
       "  {'$t': 'Tibetan Terrier'},\n",
       "  {'$t': 'Tosa Inu'},\n",
       "  {'$t': 'Toy Fox Terrier'},\n",
       "  {'$t': 'Treeing Walker Coonhound'},\n",
       "  {'$t': 'Vizsla'},\n",
       "  {'$t': 'Weimaraner'},\n",
       "  {'$t': 'Welsh Corgi'},\n",
       "  {'$t': 'Welsh Springer Spaniel'},\n",
       "  {'$t': 'Welsh Terrier'},\n",
       "  {'$t': 'West Highland White Terrier Westie'},\n",
       "  {'$t': 'Wheaten Terrier'},\n",
       "  {'$t': 'Whippet'},\n",
       "  {'$t': 'White German Shepherd'},\n",
       "  {'$t': 'Wire Fox Terrier'},\n",
       "  {'$t': 'Wirehaired Dachshund'},\n",
       "  {'$t': 'Wirehaired Pointing Griffon'},\n",
       "  {'$t': 'Wirehaired Terrier'},\n",
       "  {'$t': 'Xoloitzcuintle / Mexican Hairless'},\n",
       "  {'$t': 'Yellow Labrador Retriever'},\n",
       "  {'$t': 'Yorkshire Terrier Yorkie'}]}"
      ]
     },
     "execution_count": 18,
     "metadata": {},
     "output_type": "execute_result"
    }
   ],
   "source": [
    "js[u'petfinder'][u'breeds']"
   ]
  },
  {
   "cell_type": "code",
   "execution_count": 19,
   "metadata": {
    "collapsed": true
   },
   "outputs": [],
   "source": [
    "breeds = [b[u'$t'] for b in js['petfinder']['breeds']['breed']]"
   ]
  },
  {
   "cell_type": "code",
   "execution_count": 21,
   "metadata": {
    "scrolled": true
   },
   "outputs": [
    {
     "name": "stdout",
     "output_type": "stream",
     "text": [
      "Affenpinscher, Afghan Hound, Airedale Terrier, Akbash, Akita, Alaskan Malamute, American Bulldog, American Eskimo Dog, American Hairless Terrier, American Staffordshire Terrier, American Water Spaniel, Anatolian Shepherd, Appenzell Mountain Dog, Australian Cattle Dog / Blue Heeler, Australian Kelpie, Australian Shepherd, Australian Terrier, Basenji, Basset Hound, Beagle, Bearded Collie, Beauceron, Bedlington Terrier, Belgian Shepherd / Laekenois, Belgian Shepherd / Malinois, Belgian Shepherd / Sheepdog, Belgian Shepherd / Tervuren, Bernese Mountain Dog, Bichon Frise, Black and Tan Coonhound, Black Labrador Retriever, Black Mouth Cur, Black Russian Terrier, Bloodhound, Blue Lacy, Bluetick Coonhound, Boerboel, Bolognese, Border Collie, Border Terrier, Borzoi, Boston Terrier, Bouvier des Flanders, Boxer, Boykin Spaniel, Briard, Brittany Spaniel, Brussels Griffon, Bull Terrier, Bullmastiff, Cairn Terrier, Canaan Dog, Cane Corso Mastiff, Carolina Dog, Catahoula Leopard Dog, Cattle Dog, Caucasian Sheepdog / Caucasian Ovtcharka, Cavalier King Charles Spaniel, Chesapeake Bay Retriever, Chihuahua, Chinese Crested Dog, Chinese Foo Dog, Chinook, Chocolate Labrador Retriever, Chow Chow, Cirneco dell'Etna, Clumber Spaniel, Cockapoo, Cocker Spaniel, Collie, Coonhound, Corgi, Coton de Tulear, Curly-Coated Retriever, Dachshund, Dalmatian, Dandi Dinmont Terrier, Doberman Pinscher, Dogo Argentino, Dogue de Bordeaux, Dutch Shepherd, English Bulldog, English Cocker Spaniel, English Coonhound, English Pointer, English Setter, English Shepherd, English Springer Spaniel, English Toy Spaniel, Entlebucher, Eskimo Dog, Feist, Field Spaniel, Fila Brasileiro, Finnish Lapphund, Finnish Spitz, Flat-Coated Retriever, Fox Terrier, Foxhound, French Bulldog, Galgo Spanish Greyhound, German Pinscher, German Shepherd Dog, German Shorthaired Pointer, German Spitz, German Wirehaired Pointer, Giant Schnauzer, Glen of Imaal Terrier, Golden Retriever, Gordon Setter, Great Dane, Great Pyrenees, Greater Swiss Mountain Dog, Greyhound, Hamiltonstovare, Harrier, Havanese, Hound, Hovawart, Husky, Ibizan Hound, Icelandic Sheepdog, Illyrian Sheepdog, Irish Setter, Irish Terrier, Irish Water Spaniel, Irish Wolfhound, Italian Greyhound, Italian Spinone, Jack Russell Terrier, Jack Russell Terrier (Parson), Japanese Chin, Jindo, Kai Dog, Karelian Bear Dog, Keeshond, Kerry Blue Terrier, Kishu, Klee Kai, Komondor, Kuvasz, Kyi Leo, Labrador Retriever, Lakeland Terrier, Lancashire Heeler, Leonberger, Lhasa Apso, Lowchen, Maltese, Manchester Terrier, Maremma Sheepdog, Mastiff, McNab, Miniature Pinscher, Miniature Schnauzer, Mixed Breed, Mountain Cur, Mountain Dog, Munsterlander, Neapolitan Mastiff, New Guinea Singing Dog, Newfoundland Dog, Norfolk Terrier, Norwegian Buhund, Norwegian Elkhound, Norwegian Lundehund, Norwich Terrier, Nova Scotia Duck Tolling Retriever, Old English Sheepdog, Otterhound, Papillon, Patterdale Terrier / Fell Terrier, Pekingese, Peruvian Inca Orchid, Petit Basset Griffon Vendeen, Pharaoh Hound, Pit Bull Terrier, Plott Hound, Podengo Portugueso, Pointer, Polish Lowland Sheepdog, Pomeranian, Poodle, Portuguese Water Dog, Presa Canario, Pug, Puli, Pumi, Rat Terrier, Redbone Coonhound, Retriever, Rhodesian Ridgeback, Rottweiler, Rough Collie, Saint Bernard / St. Bernard, Saluki, Samoyed, Sarplaninac, Schipperke, Schnauzer, Scottish Deerhound, Scottish Terrier Scottie, Sealyham Terrier, Setter, Shar Pei, Sheep Dog, Shepherd, Shetland Sheepdog Sheltie, Shiba Inu, Shih Tzu, Siberian Husky, Silky Terrier, Skye Terrier, Sloughi, Smooth Collie, Smooth Fox Terrier, South Russian Ovtcharka, Spaniel, Spanish Water Dog, Spitz, Staffordshire Bull Terrier, Standard Poodle, Standard Schnauzer, Sussex Spaniel, Swedish Vallhund, Terrier, Thai Ridgeback, Tibetan Mastiff, Tibetan Spaniel, Tibetan Terrier, Tosa Inu, Toy Fox Terrier, Treeing Walker Coonhound, Vizsla, Weimaraner, Welsh Corgi, Welsh Springer Spaniel, Welsh Terrier, West Highland White Terrier Westie, Wheaten Terrier, Whippet, White German Shepherd, Wire Fox Terrier, Wirehaired Dachshund, Wirehaired Pointing Griffon, Wirehaired Terrier, Xoloitzcuintle / Mexican Hairless, Yellow Labrador Retriever, Yorkshire Terrier Yorkie\n"
     ]
    }
   ],
   "source": [
    "print(\", \".join(breeds))"
   ]
  },
  {
   "cell_type": "markdown",
   "metadata": {},
   "source": [
    "Petfinder also provides the pet.getRandom method that let's you get a random animal of a specified species."
   ]
  },
  {
   "cell_type": "code",
   "execution_count": 24,
   "metadata": {
    "collapsed": true
   },
   "outputs": [],
   "source": [
    "pet_url_ex = \"http://api.petfinder.com/pet.getRandom\"\n",
    "randomparms = {'key':key,'animal':'dog','format':'json','output':'basic'}\n",
    "randreq = requests.get(pet_url_ex,params = randomparms)\n",
    "js = randreq.json()"
   ]
  },
  {
   "cell_type": "code",
   "execution_count": 25,
   "metadata": {
    "scrolled": true
   },
   "outputs": [
    {
     "data": {
      "text/plain": [
       "{'@encoding': 'iso-8859-1',\n",
       " '@version': '1.0',\n",
       " 'petfinder': {'@xmlns:xsi': 'http://www.w3.org/2001/XMLSchema-instance',\n",
       "  '@xsi:noNamespaceSchemaLocation': 'http://api.petfinder.com/schemas/0.9/petfinder.xsd',\n",
       "  'header': {'status': {'code': {'$t': '100'}, 'message': {}},\n",
       "   'timestamp': {'$t': '2018-02-14T23:06:29Z'},\n",
       "   'version': {'$t': '0.1'}},\n",
       "  'pet': {'age': {'$t': 'Young'},\n",
       "   'animal': {'$t': 'Dog'},\n",
       "   'breeds': {'breed': {'$t': 'Black Labrador Retriever'}},\n",
       "   'contact': {'address1': {},\n",
       "    'address2': {},\n",
       "    'city': {'$t': 'Calgary'},\n",
       "    'email': {'$t': 'hope4critters@gmail.com'},\n",
       "    'fax': {},\n",
       "    'phone': {'$t': '4037101732'},\n",
       "    'state': {'$t': 'AB'},\n",
       "    'zip': {'$t': 'T2B 2T4'}},\n",
       "   'description': {'$t': 'Autumn came into our care from a rescue in the Yukon. She arrived in September and half way through her term of pregnancy,  Her pups were born October 5 and have all gone to their furever homes. Autumn is ready to find her human, she is up to date on her shots and has been spayed. She is a very active lab mix who will need a lot of exercise and love. She would do best as the only pet in the household, even though she gets along with other animals she needs a human all to herself. If you are looking for a new hiking partner or running coach Autumn is the dog for you!'},\n",
       "   'id': {'$t': '39894236'},\n",
       "   'lastUpdate': {'$t': '2017-11-12T04:40:39Z'},\n",
       "   'media': {'photos': {'photo': [{'$t': 'http://photos.petfinder.com/photos/pets/39894236/1/?bust=1510461749&width=60&-pnt.jpg',\n",
       "       '@id': '1',\n",
       "       '@size': 'pnt'},\n",
       "      {'$t': 'http://photos.petfinder.com/photos/pets/39894236/1/?bust=1510461749&width=95&-fpm.jpg',\n",
       "       '@id': '1',\n",
       "       '@size': 'fpm'},\n",
       "      {'$t': 'http://photos.petfinder.com/photos/pets/39894236/1/?bust=1510461749&width=500&-x.jpg',\n",
       "       '@id': '1',\n",
       "       '@size': 'x'},\n",
       "      {'$t': 'http://photos.petfinder.com/photos/pets/39894236/1/?bust=1510461749&width=300&-pn.jpg',\n",
       "       '@id': '1',\n",
       "       '@size': 'pn'},\n",
       "      {'$t': 'http://photos.petfinder.com/photos/pets/39894236/1/?bust=1510461749&width=50&-t.jpg',\n",
       "       '@id': '1',\n",
       "       '@size': 't'},\n",
       "      {'$t': 'http://photos.petfinder.com/photos/pets/39894236/2/?bust=1510461757&width=60&-pnt.jpg',\n",
       "       '@id': '2',\n",
       "       '@size': 'pnt'},\n",
       "      {'$t': 'http://photos.petfinder.com/photos/pets/39894236/2/?bust=1510461757&width=95&-fpm.jpg',\n",
       "       '@id': '2',\n",
       "       '@size': 'fpm'},\n",
       "      {'$t': 'http://photos.petfinder.com/photos/pets/39894236/2/?bust=1510461757&width=500&-x.jpg',\n",
       "       '@id': '2',\n",
       "       '@size': 'x'},\n",
       "      {'$t': 'http://photos.petfinder.com/photos/pets/39894236/2/?bust=1510461757&width=300&-pn.jpg',\n",
       "       '@id': '2',\n",
       "       '@size': 'pn'},\n",
       "      {'$t': 'http://photos.petfinder.com/photos/pets/39894236/2/?bust=1510461757&width=50&-t.jpg',\n",
       "       '@id': '2',\n",
       "       '@size': 't'}]}},\n",
       "   'mix': {'$t': 'yes'},\n",
       "   'name': {'$t': 'Autumn'},\n",
       "   'options': {'option': [{'$t': 'altered'},\n",
       "     {'$t': 'hasShots'},\n",
       "     {'$t': 'noDogs'},\n",
       "     {'$t': 'noCats'}]},\n",
       "   'sex': {'$t': 'F'},\n",
       "   'shelterId': {'$t': 'AB127'},\n",
       "   'shelterPetId': {},\n",
       "   'size': {'$t': 'L'},\n",
       "   'status': {'$t': 'A'}}}}"
      ]
     },
     "execution_count": 25,
     "metadata": {},
     "output_type": "execute_result"
    }
   ],
   "source": [
    "js"
   ]
  },
  {
   "cell_type": "code",
   "execution_count": 40,
   "metadata": {
    "collapsed": true
   },
   "outputs": [],
   "source": [
    "def print_pet(js):\n",
    "    \"\"\"\n",
    "    Input: Petfinder JSON object from getRandom method\n",
    "    Output: String describing the pet\n",
    "    \"\"\"\n",
    "    breed_obj = js[u'petfinder'][u'pet'][u'breeds'][u'breed']\n",
    "    if type(breed_obj) == list:\n",
    "        breeds = [a[u'$t'] for a in breed_obj]\n",
    "        breed = \", \".join(breeds) + \" mix\"\n",
    "    else:\n",
    "        breed = breed_obj[u'$t']\n",
    "    name = js[u'petfinder'][u'pet'][u'name'][u'$t']\n",
    "    desc = js[u'petfinder'][u'pet'][u'description'][u'$t']\n",
    "    return \"{} is a {}. {}\".format(name,breed,desc)"
   ]
  },
  {
   "cell_type": "code",
   "execution_count": 41,
   "metadata": {},
   "outputs": [
    {
     "data": {
      "text/plain": [
       "'Black Labrador Retriever'"
      ]
     },
     "execution_count": 41,
     "metadata": {},
     "output_type": "execute_result"
    }
   ],
   "source": [
    "js[u'petfinder'][u'pet'][u'breeds'][u'breed'][u'$t']"
   ]
  },
  {
   "cell_type": "code",
   "execution_count": 42,
   "metadata": {
    "scrolled": true
   },
   "outputs": [
    {
     "name": "stdout",
     "output_type": "stream",
     "text": [
      "Autumn is a Black Labrador Retriever. Autumn came into our care from a rescue in the Yukon. She arrived in September and half way through her term of pregnancy,  Her pups were born October 5 and have all gone to their furever homes. Autumn is ready to find her human, she is up to date on her shots and has been spayed. She is a very active lab mix who will need a lot of exercise and love. She would do best as the only pet in the household, even though she gets along with other animals she needs a human all to herself. If you are looking for a new hiking partner or running coach Autumn is the dog for you!\n"
     ]
    }
   ],
   "source": [
    "print(print_pet(js))"
   ]
  },
  {
   "cell_type": "markdown",
   "metadata": {},
   "source": [
    "Let's try to get at the image links for this dog."
   ]
  },
  {
   "cell_type": "code",
   "execution_count": 43,
   "metadata": {},
   "outputs": [
    {
     "data": {
      "text/plain": [
       "[{'$t': 'http://photos.petfinder.com/photos/pets/39894236/1/?bust=1510461749&width=60&-pnt.jpg',\n",
       "  '@id': '1',\n",
       "  '@size': 'pnt'},\n",
       " {'$t': 'http://photos.petfinder.com/photos/pets/39894236/1/?bust=1510461749&width=95&-fpm.jpg',\n",
       "  '@id': '1',\n",
       "  '@size': 'fpm'},\n",
       " {'$t': 'http://photos.petfinder.com/photos/pets/39894236/1/?bust=1510461749&width=500&-x.jpg',\n",
       "  '@id': '1',\n",
       "  '@size': 'x'},\n",
       " {'$t': 'http://photos.petfinder.com/photos/pets/39894236/1/?bust=1510461749&width=300&-pn.jpg',\n",
       "  '@id': '1',\n",
       "  '@size': 'pn'},\n",
       " {'$t': 'http://photos.petfinder.com/photos/pets/39894236/1/?bust=1510461749&width=50&-t.jpg',\n",
       "  '@id': '1',\n",
       "  '@size': 't'},\n",
       " {'$t': 'http://photos.petfinder.com/photos/pets/39894236/2/?bust=1510461757&width=60&-pnt.jpg',\n",
       "  '@id': '2',\n",
       "  '@size': 'pnt'},\n",
       " {'$t': 'http://photos.petfinder.com/photos/pets/39894236/2/?bust=1510461757&width=95&-fpm.jpg',\n",
       "  '@id': '2',\n",
       "  '@size': 'fpm'},\n",
       " {'$t': 'http://photos.petfinder.com/photos/pets/39894236/2/?bust=1510461757&width=500&-x.jpg',\n",
       "  '@id': '2',\n",
       "  '@size': 'x'},\n",
       " {'$t': 'http://photos.petfinder.com/photos/pets/39894236/2/?bust=1510461757&width=300&-pn.jpg',\n",
       "  '@id': '2',\n",
       "  '@size': 'pn'},\n",
       " {'$t': 'http://photos.petfinder.com/photos/pets/39894236/2/?bust=1510461757&width=50&-t.jpg',\n",
       "  '@id': '2',\n",
       "  '@size': 't'}]"
      ]
     },
     "execution_count": 43,
     "metadata": {},
     "output_type": "execute_result"
    }
   ],
   "source": [
    "image_recs = js[u'petfinder'][u'pet'][u'media'][u'photos'][u'photo']\n",
    "image_recs"
   ]
  },
  {
   "cell_type": "code",
   "execution_count": 46,
   "metadata": {
    "collapsed": true
   },
   "outputs": [],
   "source": [
    "from IPython.display import HTML"
   ]
  },
  {
   "cell_type": "code",
   "execution_count": 47,
   "metadata": {
    "collapsed": true
   },
   "outputs": [],
   "source": [
    "def display_pet(js):\n",
    "    \"\"\"\n",
    "    Input: petfinder json object\n",
    "    Output: html string with image\n",
    "    \"\"\"\n",
    "    try:\n",
    "        image_recs = js[u'petfinder'][u'pet'][u'media'][u'photos'][u'photo']\n",
    "    except KeyError:\n",
    "        return \"\"\n",
    "    for rec in image_recs:\n",
    "        image_uri = rec['$t']\n",
    "        if rec['@size'] == u'x':\n",
    "            break\n",
    "    return \"<center><img src='{}'></center>\".format(image_uri)"
   ]
  },
  {
   "cell_type": "code",
   "execution_count": 48,
   "metadata": {},
   "outputs": [
    {
     "data": {
      "text/html": [
       "<center><img src='http://photos.petfinder.com/photos/pets/39894236/1/?bust=1510461749&width=500&-x.jpg'></center>Autumn is a Black Labrador Retriever. Autumn came into our care from a rescue in the Yukon. She arrived in September and half way through her term of pregnancy,  Her pups were born October 5 and have all gone to their furever homes. Autumn is ready to find her human, she is up to date on her shots and has been spayed. She is a very active lab mix who will need a lot of exercise and love. She would do best as the only pet in the household, even though she gets along with other animals she needs a human all to herself. If you are looking for a new hiking partner or running coach Autumn is the dog for you!"
      ],
      "text/plain": [
       "<IPython.core.display.HTML object>"
      ]
     },
     "execution_count": 48,
     "metadata": {},
     "output_type": "execute_result"
    }
   ],
   "source": [
    "HTML(display_pet(js) + print_pet(js)) \n",
    "#Both functions return html strings and HTML will display that"
   ]
  },
  {
   "cell_type": "markdown",
   "metadata": {},
   "source": [
    "Let's make it easy to get a random dog, since we'll be doing it many times."
   ]
  },
  {
   "cell_type": "code",
   "execution_count": 315,
   "metadata": {},
   "outputs": [
    {
     "name": "stdout",
     "output_type": "stream",
     "text": [
      "\n",
      "    Input: api key and parameters for the query\n",
      "    Output: a url string\n",
      "    \n"
     ]
    }
   ],
   "source": [
    "print pet_url.__doc__"
   ]
  },
  {
   "cell_type": "code",
   "execution_count": 54,
   "metadata": {
    "collapsed": true
   },
   "outputs": [],
   "source": [
    "def random_dog(key):\n",
    "    \"\"\"\n",
    "    Input: api key\n",
    "    Output: HTML description of the dog\n",
    "    \"\"\"\n",
    "    pet_url_ex = \"http://api.petfinder.com/pet.getRandom\"\n",
    "    randomparms = {'key':key,'animal':'dog','format':'json','output':'basic'}\n",
    "    randreq = requests.get(pet_url_ex,params = randomparms)\n",
    "    js = randreq.json()\n",
    "    return js"
   ]
  },
  {
   "cell_type": "code",
   "execution_count": 64,
   "metadata": {},
   "outputs": [
    {
     "data": {
      "text/html": [
       "<center><img src='http://photos.petfinder.com/photos/pets/40071493/1/?bust=1512333972&width=500&-x.jpg'></center>Conan is a Greyhound. Conan\n",
       "\n",
       "Race Name: Cayenne Conan\n",
       "DOB: August 29, 2015\n",
       "Color/Sex: White and Black Male\n",
       "Weight: 73lbs.\n",
       "\n",
       "Good With Older Kids and Other Large Breeds\n",
       "No Cats or Small Animals\n",
       "\n",
       "Handsome and Playful\n",
       "\n",
       "Conan is a two year old white and black male. He ran 21 races at Orange Park, Sanford/Orlando and Daytona Beach Greyhound Parks. He has decided to take an early retirement and spend his days doing zoomies in his furever backyard. He has tested older kid and other large breed friendly, however he is not cat or small animal safe. Conan is a very handsome boy who wants nothing more than a good squeaky toy and your attention. He loves being out with the other greyhounds in his playgroup and he shares nicely. He will do his zoomies either with the group or on his own. He loves all the toys in the play paddock, but he has not destroyed any of them. He will initiate play and zoomies with a goofy play bow, but if he does not get a response he will play or run on his own. He marches to the beat of his own drum. He loves getting your attention and will stand by you to get some extra lovins. If another greyhound wants his toy, he will take it and run around trying to get them to chase him. Due to his playful nature, we will only place him with older kids (5+). He enjoys a nice walk and once he gets over his \"OMG!! Is that a leash in your hand?!?!\" happiness, he settles in and walks nicely on a leash. He does know that when he returns from his walk, he gets a treat. He will wait patiently and watch you intensely until he gets a treat, but he has not started to take them from our hands. Conan would make a greyt first greyhound or a wonderful addition to an existing pack."
      ],
      "text/plain": [
       "<IPython.core.display.HTML object>"
      ]
     },
     "execution_count": 64,
     "metadata": {},
     "output_type": "execute_result"
    }
   ],
   "source": [
    "with requests_cache.disabled():\n",
    "    js = random_dog(key)\n",
    "HTML(display_pet(js) + print_pet(js)) \n",
    "# except KeyError:\n",
    "#     print(\"Poor format from petfinder.\")"
   ]
  },
  {
   "cell_type": "markdown",
   "metadata": {},
   "source": [
    "# Breed Statistics\n",
    "\n",
    "Let's do some statistics.  We have a way of getting a random dog, so we can obtain a sample.  I'm interested in the breed distribution for example."
   ]
  },
  {
   "cell_type": "code",
   "execution_count": 65,
   "metadata": {
    "collapsed": true
   },
   "outputs": [],
   "source": [
    "from collections import Counter\n",
    "\n",
    "def random_dog_breed(key):\n",
    "    \"\"\"\n",
    "    Get a random dog and return the breed\n",
    "    Input: api key\n",
    "    Output: counter object of dog breeds\n",
    "    \"\"\"\n",
    "#     pet_uri = \"http://api.petfinder.com/pet.getRandom?key={}&animal=dog&format=json&output=full\".format(key)\n",
    "#     req = requests.get(pet_uri)\n",
    "    js = random_dog(key)\n",
    "    breed_obj = js[u'petfinder'][u'pet'][u'breeds'][u'breed']\n",
    "    if type(breed_obj) == list:\n",
    "        breeds = [a[u'$t'] for a in breed_obj]\n",
    "        breed_counter = Counter({b:1 for b in breeds})\n",
    "    else:\n",
    "        breed_counter = Counter({breed_obj[u'$t']: 1})\n",
    "    return breed_counter"
   ]
  },
  {
   "cell_type": "code",
   "execution_count": 75,
   "metadata": {},
   "outputs": [],
   "source": [
    "tsize = 500\n",
    "with requests_cache.disabled():\n",
    "    Breed_dist = sum((random_dog_breed(key) for i in range(tsize)),Counter())"
   ]
  },
  {
   "cell_type": "code",
   "execution_count": 76,
   "metadata": {
    "collapsed": true
   },
   "outputs": [],
   "source": [
    "common_breeds = Breed_dist.most_common(10)"
   ]
  },
  {
   "cell_type": "code",
   "execution_count": 77,
   "metadata": {},
   "outputs": [
    {
     "data": {
      "text/plain": [
       "[('Pit Bull Terrier', 89),\n",
       " ('Labrador Retriever', 74),\n",
       " ('Mixed Breed', 62),\n",
       " ('Terrier', 39),\n",
       " ('Chihuahua', 38),\n",
       " ('German Shepherd Dog', 27),\n",
       " ('Shepherd', 27),\n",
       " ('Hound', 25),\n",
       " ('American Bulldog', 24),\n",
       " ('Boxer', 23)]"
      ]
     },
     "execution_count": 77,
     "metadata": {},
     "output_type": "execute_result"
    }
   ],
   "source": [
    "common_breeds"
   ]
  },
  {
   "cell_type": "code",
   "execution_count": 81,
   "metadata": {},
   "outputs": [
    {
     "data": {
      "image/png": "[encoded data removed]",
      "text/plain": [
       "<matplotlib.figure.Figure at 0x714295b86710>"
      ]
     },
     "metadata": {},
     "output_type": "display_data"
    }
   ],
   "source": [
    "_ = plt.figure(figsize=(8,6))\n",
    "_ = plt.pie([c[1] for c in common_breeds],labels=[c[0] for c in common_breeds])\n",
    "_ = plt.suptitle('Breed distribution of petfinder.com')"
   ]
  }
 ],
 "metadata": {
  "anaconda-cloud": {},
  "kernelspec": {
   "display_name": "Python 3",
   "language": "python",
   "name": "python3"
  },
  "language_info": {
   "codemirror_mode": {
    "name": "ipython",
    "version": 3
   },
   "file_extension": ".py",
   "mimetype": "text/x-python",
   "name": "python",
   "nbconvert_exporter": "python",
   "pygments_lexer": "ipython3",
   "version": "3.6.1"
  }
 },
 "nbformat": 4,
 "nbformat_minor": 1
}
