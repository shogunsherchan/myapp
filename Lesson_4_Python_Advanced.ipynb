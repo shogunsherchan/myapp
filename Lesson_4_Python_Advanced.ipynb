{
 "cells": [
  {
   "cell_type": "markdown",
   "metadata": {},
   "source": [
    "Lesson 4: Pythonic programming\n",
    "====================\n",
    "---\n",
    "Prof. James Sharpnack<br>\n",
    "Statistics Department, UC Davis<br>\n",
    "&copy; 2017"
   ]
  },
  {
   "cell_type": "markdown",
   "metadata": {},
   "source": [
    "## Python built-in functions and iterables\n",
    "\n",
    "Python has many built in functions that are always available to the user.  See [the following documentation](https://docs.python.org/3/library/functions.html). You should learn their uses, since many are very helful.  Most of them operate on broad classes of objects.  For example, `enumerate()` operates on any container, which are lists, tuple, sets, dictionaries.  The main types that you should know how to use extensively are list, tuple, set, dict, str, int, float, function.  You can initialize these types by calling  `int('134')` for example.  Running the cell below will show the docstring for the int type."
   ]
  },
  {
   "cell_type": "code",
   "execution_count": 5,
   "metadata": {},
   "outputs": [],
   "source": [
    "int?"
   ]
  },
  {
   "cell_type": "markdown",
   "metadata": {},
   "source": [
    "Some of the most useful of these functions are `enumerate, len, max, min, sorted, range, reversed, sum, zip`.  These are all tied to iterables, which we should discuss here.  Iterables are types for which the `iter` method is defined, which is how for loops work in python.  Containers are iterable, and the resulting iterator will allow you to iterate through its elements.  For example, the following two cells do the same thing."
   ]
  },
  {
   "cell_type": "code",
   "execution_count": 6,
   "metadata": {},
   "outputs": [
    {
     "name": "stdout",
     "output_type": "stream",
     "text": [
      "2\n",
      "3\n",
      "5\n",
      "7\n",
      "11\n",
      "13\n"
     ]
    }
   ],
   "source": [
    "all_primes = list([2,3,5,7,11,13])\n",
    "for i in all_primes: #simple for loop\n",
    "    print(i)"
   ]
  },
  {
   "cell_type": "code",
   "execution_count": 13,
   "metadata": {},
   "outputs": [
    {
     "name": "stdout",
     "output_type": "stream",
     "text": [
      "2\n",
      "3\n",
      "5\n",
      "7\n",
      "11\n",
      "13\n"
     ]
    }
   ],
   "source": [
    "all_primes_iter = iter(all_primes)\n",
    "while True:\n",
    "    try:\n",
    "        i = next(all_primes_iter)\n",
    "        print(i)\n",
    "    except StopIteration:\n",
    "        break"
   ]
  },
  {
   "cell_type": "markdown",
   "metadata": {},
   "source": [
    "The above script will repeat the `next` function, which moves the position down the iterator.  When there next cannot find any more elements then it will raise a StopIteration error.  The try, except idiom in python is very handy.  Using it you can catch certain types of errors, and perform other operations in their event.  See [the python error](https://docs.python.org/3/tutorial/errors.html) documentation for more details.\n",
    "\n",
    "`len` will return the number of elements in a container, such as list.  It will also give the length of a string.\n",
    "\n",
    "`range(n,m)` will return an iterable that counts from n to m-1.  In python 2.7, it would return a list, and `xrange` would return the iterable.  In python 3, there is only range and it returns the iterable, the distinction being that range no longer allocates all that memory to build the list by default.\n",
    "\n",
    "`sorted(iterable[,key])` will sort the iterable based on the key function.  Designing an interesting key function can allow you to sort a string based on length, or the second letter, etc.  This functionality is very handy.\n",
    "\n",
    "`max, min` will find the minimum and maximum of an iterable, and they support a key like the sorted function.\n",
    "\n",
    "`enumerate(iterable)` will return an iterable that returns tuples of the elements of the list  along with the index.  See the next cell."
   ]
  },
  {
   "cell_type": "code",
   "execution_count": 21,
   "metadata": {},
   "outputs": [
    {
     "name": "stdout",
     "output_type": "stream",
     "text": [
      "0 1\n",
      "1 4\n",
      "2 9\n"
     ]
    }
   ],
   "source": [
    "for i,j in enumerate([1,4,9]):\n",
    "    print(i,j)"
   ]
  },
  {
   "cell_type": "markdown",
   "metadata": {},
   "source": [
    "`reversed(iterable)` reverses the iterable and returns an iterable.\n",
    "\n",
    "`sum(iterable[,start])` will add the elements of the iterable starting at the start.  If it is a list of numbers then the default start of 0 is good.  But you can do the following for example."
   ]
  },
  {
   "cell_type": "code",
   "execution_count": 28,
   "metadata": {},
   "outputs": [
    {
     "name": "stdout",
     "output_type": "stream",
     "text": [
      "45\n",
      "[0, 1, 2, 3, 4, 5, 6, 7, 8, 9]\n"
     ]
    }
   ],
   "source": [
    "print(sum(range(10)))\n",
    "print(sum(([i] for i in range(10)), []))"
   ]
  },
  {
   "cell_type": "markdown",
   "metadata": {},
   "source": [
    "## Mutable or immutable: list or tuple?\n",
    "\n",
    "You can group python types into mutable and immutable, where the contents of immutable types cannot be altered.  Two mirror image types are the tuple and list.  The tuple is immutable, so you cannot extend it, modify the entries by slicing, etc."
   ]
  },
  {
   "cell_type": "code",
   "execution_count": 29,
   "metadata": {},
   "outputs": [
    {
     "ename": "TypeError",
     "evalue": "'tuple' object does not support item assignment",
     "output_type": "error",
     "traceback": [
      "\u001b[0;31m---------------------------------------------------------------------------\u001b[0m",
      "\u001b[0;31mTypeError\u001b[0m                                 Traceback (most recent call last)",
      "\u001b[0;32m<ipython-input-29-82e758a775f5>\u001b[0m in \u001b[0;36m<module>\u001b[0;34m()\u001b[0m\n\u001b[1;32m      1\u001b[0m \u001b[0ma_tup\u001b[0m \u001b[0;34m=\u001b[0m \u001b[0;34m(\u001b[0m\u001b[0;36m1\u001b[0m\u001b[0;34m,\u001b[0m\u001b[0;36m4\u001b[0m\u001b[0;34m,\u001b[0m\u001b[0;36m9\u001b[0m\u001b[0;34m)\u001b[0m\u001b[0;34m\u001b[0m\u001b[0m\n\u001b[0;32m----> 2\u001b[0;31m \u001b[0ma_tup\u001b[0m\u001b[0;34m[\u001b[0m\u001b[0;36m1\u001b[0m\u001b[0;34m]\u001b[0m \u001b[0;34m=\u001b[0m \u001b[0;36m3\u001b[0m\u001b[0;34m\u001b[0m\u001b[0m\n\u001b[0m",
      "\u001b[0;31mTypeError\u001b[0m: 'tuple' object does not support item assignment"
     ]
    }
   ],
   "source": [
    "a_tup = (1,4,9)\n",
    "a_tup[1] = 3 #this doesn't work"
   ]
  },
  {
   "cell_type": "code",
   "execution_count": 30,
   "metadata": {
    "collapsed": true
   },
   "outputs": [],
   "source": [
    "a_list = [1,4,9]\n",
    "a_list[1] = 3"
   ]
  },
  {
   "cell_type": "markdown",
   "metadata": {},
   "source": [
    "Other immutable types are `int, str, bool` and some mutable types are `list, array.array, set, dict`.  The mutable types can be appended to and slicing can alter the contents.  A tuple is more than an immutable list.  It also has tuple unpacking, which can be very handy for working with functions and returning multiple items."
   ]
  },
  {
   "cell_type": "code",
   "execution_count": 34,
   "metadata": {},
   "outputs": [
    {
     "name": "stdout",
     "output_type": "stream",
     "text": [
      "0 1 [2, 3, 4]\n"
     ]
    }
   ],
   "source": [
    "a, b = (1, 2) #parallel assignment\n",
    "b, a = a, b #swap the values!\n",
    "a, b, *c = range(5) #*c will grab the rest of the items\n",
    "print(a,b,c)"
   ]
  },
  {
   "cell_type": "code",
   "execution_count": 35,
   "metadata": {
    "collapsed": true
   },
   "outputs": [],
   "source": [
    "def test_right_triangle(a,b,c):\n",
    "    print(a**2 + b**2 == c**2)"
   ]
  },
  {
   "cell_type": "code",
   "execution_count": 38,
   "metadata": {},
   "outputs": [
    {
     "name": "stdout",
     "output_type": "stream",
     "text": [
      "True\n"
     ]
    }
   ],
   "source": [
    "trarg = (3,4,5)\n",
    "test_right_triangle(*trarg) #here we passed multiple arguments from one tuple with unpacking"
   ]
  },
  {
   "cell_type": "markdown",
   "metadata": {},
   "source": [
    "Tuples should be thought of as records, as in a database, as well.  They work well as records  because you cannot change the order of the elements, giving each position a fixed meaning.  So if you have a dataset of (year, price, item name) then it would be best to organize it at a list of 3-tuples (until we start using pandas that is)."
   ]
  },
  {
   "cell_type": "markdown",
   "metadata": {},
   "source": [
    "## List comprehensions and generator expressions\n",
    "\n",
    "One of the more pythonic things that you will learn is the use of list comprehensions and generator expressions.  The idea is that if you want to build a list from an iterable, while mapping and filtering the elements, then you should go with a list comprehension.  They are typically more succinct, faster, and very flexible.  I did not introduce the map function above because a list comprehension is easier to write and more readable.  `map` will apply a function to each entry of a list, and `filter` will remove those for which a function evaluates to false.  But we can do that with a list comp...  "
   ]
  },
  {
   "cell_type": "code",
   "execution_count": 41,
   "metadata": {},
   "outputs": [
    {
     "name": "stdout",
     "output_type": "stream",
     "text": [
      "[0, 1, 2, 3, 4, 5, 6, 7, 8, 9, 10, 11, 12, 13, 14, 15, 16, 17, 18, 19, 20, 21, 22, 23, 24, 25, 26, 27, 28, 29, 30, 31, 32, 33]\n"
     ]
    }
   ],
   "source": [
    "print([i//3 for i in range(100) if i % 3 == 0])"
   ]
  },
  {
   "cell_type": "markdown",
   "metadata": {},
   "source": [
    "In the above we mapped the numbers 0-99 by dividing by 3 and filtered out those which are not divisible by 3.  Many times you do not want to create a list and waste the memory, and instead you want to just create an iterable.  A generator expression will do this for you.  It looks like a list comp, but you just surround the expression with parentheses.  This can then be passed to functions that take iterables.  You can also initialize a dictionary with a generator expression (as in two cells down)."
   ]
  },
  {
   "cell_type": "code",
   "execution_count": 43,
   "metadata": {},
   "outputs": [
    {
     "data": {
      "text/plain": [
       "661"
      ]
     },
     "execution_count": 43,
     "metadata": {},
     "output_type": "execute_result"
    }
   ],
   "source": [
    "sum((i//3 for i in range(100) if i % 3 == 0),100) #100+0+1+2+...+33"
   ]
  },
  {
   "cell_type": "code",
   "execution_count": 44,
   "metadata": {},
   "outputs": [
    {
     "data": {
      "text/plain": [
       "{'d': 3, 'g': 5, 'h': 0, 'o': 4, 't': 2}"
      ]
     },
     "execution_count": 44,
     "metadata": {},
     "output_type": "execute_result"
    }
   ],
   "source": [
    "{j:i for i,j in enumerate('hotdog')}"
   ]
  },
  {
   "cell_type": "markdown",
   "metadata": {},
   "source": [
    "## The right data structure for you\n",
    "\n",
    "Different data structures are efficient for different operations.  The list is great if you want to look up the item based on its index.  It is inefficient for looking up the index for a certain value.  This is because `list.index` will look up the index for that value by iterating through the list until the value is found.  This means that the amount of time that this can take will scale like the length of the list (we say that this takes $O(n)$ time where $n$ is the length of the list).  If you want to do fast index lookups you have two main options: a dictionary for reverse lookups, or a sortedlist.\n",
    "\n",
    "A dictionary is a hash table.  A hash table stores the values in blocks in memory, where the location in memory is based on a built in hash function.  So if you call `hash('james')` then you see the hash value of a string, which determines where the value is stored in memory.  This means that to find a value of a key, you only need to evaluate the hash function of the key.  This means that lookups take constant time.  The drawback is that the hash table takes up perhaps an unneccessary amount of memory.  You also need to use keys that are hashable, such as strings, ints, floats.\n",
    "\n",
    "<img src=\"https://upload.wikimedia.org/wikipedia/commons/7/7d/Hash_table_3_1_1_0_1_0_0_SP.svg\">\n",
    "\n",
    "A sorted list is just a sorted version of the original list used to construct it.  Because it is sorted you can look for values through the bisection method.  Bisection will look at the mid-point in the sorted list and determine if the query is greater than or less than that value.  Then you can rule out half of the list, and continue bisecting in the other half recursively until you find the value.  This means that it takes $O(\\log n)$ time to do the lookup.  Look at the code below from the scrabble dictionary reverse lookup example."
   ]
  },
  {
   "cell_type": "code",
   "execution_count": 46,
   "metadata": {
    "collapsed": true
   },
   "outputs": [],
   "source": [
    "def read_dictionary(filename=\"data/sowpods.txt\"):\n",
    "    \"\"\"create a list of words in the scrabble dictionary\"\"\"\n",
    "    with open(filename,'r') as scrabblefile:\n",
    "        scrabble_dict = [word.strip() for word in scrabblefile]\n",
    "    return(scrabble_dict)\n",
    "    \n",
    "scrabble_words = read_dictionary()"
   ]
  },
  {
   "cell_type": "code",
   "execution_count": 47,
   "metadata": {
    "collapsed": true
   },
   "outputs": [],
   "source": [
    "from sortedcontainers import SortedList\n",
    "\n",
    "ind_dict = {word: i for i, word in enumerate(scrabble_words)} #init the dictionary\n",
    "ind_sl = SortedList(scrabble_words) #init the sorted list"
   ]
  },
  {
   "cell_type": "code",
   "execution_count": 51,
   "metadata": {},
   "outputs": [
    {
     "name": "stdout",
     "output_type": "stream",
     "text": [
      "The slowest run took 44.11 times longer than the fastest. This could mean that an intermediate result is being cached.\n",
      "10000000 loops, best of 3: 74.1 ns per loop\n",
      "100000 loops, best of 3: 4.64 µs per loop\n",
      "1000 loops, best of 3: 325 µs per loop\n"
     ]
    }
   ],
   "source": [
    "word = scrabble_words[12345]\n",
    "%timeit ind_dict[word]\n",
    "%timeit ind_sl.bisect(word)\n",
    "%timeit scrabble_words.index(word)"
   ]
  }
 ],
 "metadata": {
  "kernelspec": {
   "display_name": "Python 3",
   "language": "python",
   "name": "python3"
  },
  "language_info": {
   "codemirror_mode": {
    "name": "ipython",
    "version": 3
   },
   "file_extension": ".py",
   "mimetype": "text/x-python",
   "name": "python",
   "nbconvert_exporter": "python",
   "pygments_lexer": "ipython3",
   "version": "3.6.1"
  }
 },
 "nbformat": 4,
 "nbformat_minor": 2
}
