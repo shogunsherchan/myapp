{
 "cells": [
  {
   "cell_type": "markdown",
   "metadata": {},
   "source": [
    "## Practice script for scrabble dict\n",
    "Process the scrabble dict to make it have no header and in upper case."
   ]
  },
  {
   "cell_type": "code",
   "execution_count": 3,
   "metadata": {},
   "outputs": [
    {
     "name": "stdout",
     "output_type": "stream",
     "text": [
      "--2018-01-10 16:39:13--  https://www.wordgamedictionary.com/sowpods/download/sowpods.txt\n",
      "Resolving www.wordgamedictionary.com (www.wordgamedictionary.com)... 192.169.236.24\n",
      "Connecting to www.wordgamedictionary.com (www.wordgamedictionary.com)|192.169.236.24|:443... connected.\n",
      "HTTP request sent, awaiting response... 200 OK\n",
      "Length: 2707333 (2.6M) [text/plain]\n",
      "Saving to: 'sowpods.txt.1'\n",
      "\n",
      "sowpods.txt.1       100%[===================>]   2.58M  2.51MB/s    in 1.0s    \n",
      "\n",
      "2018-01-10 16:39:14 (2.51 MB/s) - 'sowpods.txt.1' saved [2707333/2707333]\n",
      "\n"
     ]
    }
   ],
   "source": [
    "!wget https://www.wordgamedictionary.com/sowpods/download/sowpods.txt"
   ]
  },
  {
   "cell_type": "code",
   "execution_count": 4,
   "metadata": {},
   "outputs": [
    {
     "name": "stdout",
     "output_type": "stream",
     "text": [
      "SOWPODS (Europe Scrabble Word List)\r\n",
      "\r\n",
      "Did you know this is a European word list? You can find the US version here http://www.wordgamedictionary.com/twl06/download/twl06.txt\r\n",
      "\r\n",
      "You can also find an extensive and larger English word list here http://www.wordgamedictionary.com/english-word-list/download/english.txt\r\n",
      "\r\n",
      "aa\r\n",
      "aah\r\n",
      "aahed\r\n",
      "aahing\r\n"
     ]
    }
   ],
   "source": [
    "!head sowpods.txt"
   ]
  },
  {
   "cell_type": "code",
   "execution_count": 5,
   "metadata": {
    "collapsed": true
   },
   "outputs": [],
   "source": [
    "infile = open(\"sowpods.txt\",\"r\") \n",
    "outfile = open(\"upppods.txt\",\"w\") #create the file object -- DONT FORGET TO CLOSE IT \n",
    "\n",
    "\"\"\"\n",
    "Look at the with ... as ... idiom as in \n",
    "with open(...) as infile:\n",
    "    do your stuff\n",
    "    \n",
    "This automatically closes the file.\n",
    "\"\"\""
   ]
  },
  {
   "cell_type": "code",
   "execution_count": 11,
   "metadata": {},
   "outputs": [
    {
     "data": {
      "text/plain": [
       "'\\n'"
      ]
     },
     "execution_count": 11,
     "metadata": {},
     "output_type": "execute_result"
    }
   ],
   "source": [
    "infile.readline() #I ran this a few times to iterate until the first scrabble dictionary word"
   ]
  },
  {
   "cell_type": "code",
   "execution_count": 12,
   "metadata": {
    "collapsed": true
   },
   "outputs": [],
   "source": [
    "for line in infile: #line is each line of infile in sequence\n",
    "    outfile.write(line.upper()) #write the uppercase version of line to the next line of outfile"
   ]
  },
  {
   "cell_type": "code",
   "execution_count": 13,
   "metadata": {
    "collapsed": true
   },
   "outputs": [],
   "source": [
    "outfile.close() #close the files - so that you ensure that it is written\n",
    "infile.close()"
   ]
  },
  {
   "cell_type": "code",
   "execution_count": 15,
   "metadata": {},
   "outputs": [
    {
     "name": "stdout",
     "output_type": "stream",
     "text": [
      "AA\r\n",
      "AAH\r\n",
      "AAHED\r\n",
      "AAHING\r\n",
      "AAHS\r\n",
      "AAL\r\n",
      "AALII\r\n",
      "AALIIS\r\n",
      "AALS\r\n",
      "AARDVARK\r\n"
     ]
    }
   ],
   "source": [
    "!head upppods.txt #It worked!"
   ]
  }
 ],
 "metadata": {
  "kernelspec": {
   "display_name": "Python 3",
   "language": "python",
   "name": "python3"
  },
  "language_info": {
   "codemirror_mode": {
    "name": "ipython",
    "version": 3
   },
   "file_extension": ".py",
   "mimetype": "text/x-python",
   "name": "python",
   "nbconvert_exporter": "python",
   "pygments_lexer": "ipython3",
   "version": "3.6.1"
  }
 },
 "nbformat": 4,
 "nbformat_minor": 2
}
