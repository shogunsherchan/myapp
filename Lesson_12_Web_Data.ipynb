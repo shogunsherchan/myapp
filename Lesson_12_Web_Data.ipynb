{
 "cells": [
  {
   "cell_type": "markdown",
   "metadata": {},
   "source": [
    "Lesson 12: Getting data from the internet\n",
    "====================\n",
    "---\n",
    "Prof. James Sharpnack<br>\n",
    "Statistics Department, UC Davis<br>\n",
    "&copy; 2018"
   ]
  },
  {
   "cell_type": "markdown",
   "metadata": {},
   "source": [
    "## The Internet and HTTP\n",
    "\n",
    "<p>\n",
    "  The internet (you may have heard of it) is a system of computer networks that uses internet protocols to link communicating devices.\n",
    "  The internet is dictated by network protocols, which are rules by which computers communicate.\n",
    "  Each protocol is designed for a certain task and is specific to a type of data, physical devices, or application..\n",
    "  So for example, the Simple Mail Transfer Protocol (SMTP) and Post Office Protocol (POP), are agreements on how email clients and servers create and parse messages.\n",
    "  These protocols are mostly open source, such as HTTP, but some are proprietary, like the Yahoo! Instant Messenger Protocol.\n",
    "  The cryptocurrency, Bitcoin, has an associated protocol that specifies how bitcoins are sent and recieved.\n",
    "  The internet protocol suite is a stack of interdependent protocols that power the internet, allowing for the routing of packets (IP), the interaction with physical components (MAC/Ethernet/etc.), the error-free transmission of data (TCP), and the application layer that standardizes communication (HTTP).\n",
    "  You can see a list of network protocols at <a href=\"https://en.wikipedia.org/wiki/Lists_of_network_protocols\">this wikipedia page</a>.\n",
    "</p>\n",
    "<p>\n",
    "  Bob Kahn and Vinton Cerf developed TCP/IP for DARPA, the research arm of the Department of Defense.\n",
    "  The computer network at the time was called ARPANET, and the protocols multiplied as TCP spawned IP, and other researchers joined the project.\n",
    "  Later Tim Berners-Lee at the European Organization for Nuclear Research (CERN) developed the Hypertext Transfer Protocol (HTTP).\n",
    "  HTTP is the application protocol that is the basis for the world wide web.\n",
    "  We will discuss more about HTML, the hypertext markup language in another lesson, but for now, just know that it allows for nodes to be linked to one another (via URIs) and these nodes have structured text.\n",
    "  HTTP standards are maintained and updated by the Internet Engineering Task Force (IETF) and the World Wide Web Consortium (W3C).\n",
    "  A very interesting account of the development and implications of the internet can be found in the documentary, \"Lo and Behold, Reveries of the Connected World\" by Werner Herzog (available on Netflix as of Feb 2017).\n",
    "</p>\n",
    "<p>\n",
    "  Network protocols that are maintained by the IETF are published in Request for Comment (RFC) documents.\n",
    "  For example, we can see the first RFC for HTTP (<a href=\"https://tools.ietf.org/html/rfc1945\">RFC 1945</a>) has the following abstract.\n",
    "<center><pre>Network Working Group                                     T. Berners-Lee\n",
    "Request for Comments: 1945                                       MIT/LCS\n",
    "Category: Informational                                      R. Fielding\n",
    "                                                               UC Irvine\n",
    "                                                              H. Frystyk\n",
    "                                                                 MIT/LCS\n",
    "                                                                May 1996\n",
    "\n",
    "\n",
    "Hypertext Transfer Protocol -- HTTP/1.0\n",
    "    \n",
    "Abstract\n",
    "\n",
    "   The Hypertext Transfer Protocol (HTTP) is an application-level\n",
    "   protocol with the lightness and speed necessary for distributed,\n",
    "   collaborative, hypermedia information systems. It is a generic,\n",
    "   stateless, object-oriented protocol which can be used for many tasks,\n",
    "   such as name servers and distributed object management systems,\n",
    "   through extension of its request methods (commands). A feature of\n",
    "   HTTP is the typing of data representation, allowing systems to be\n",
    "   built independently of the data being transferred.\n",
    "</pre></center>\n",
    "  HTTP is based on the client-server computing model, where a client, typically a web browser, and an application on a web server, communicate to serve web content.\n",
    "  One common open-source web server application is Apache (which is also the name of its parent organization that later developed the web browser Firefox).\n",
    "  HTTP is a request-response protocol, meaning that clients make requests for content and then the server makes a response.\n",
    "  There are several request methods to HTTP, notably GET which is used to retrieve data, and POST which asks the server to accept data at a URI.  \n",
    "</p>\n"
   ]
  },
  {
   "cell_type": "markdown",
   "metadata": {},
   "source": [
    "The Request package is a main tool making requests to web servers.  Because we will focus on extracting data from the web, we will focus on GET requests, and ignore POST requests.  The basic GET request is what the browser does when you navigate to a URL.  As it turns out you can pass parameters to URLs as well.  The URLs follow a certain format according to other RFCs that specify how URLs should be written.  The basic idea is that the URL can be broken into the following components: scheme, network location, hierarchical path, parameters, query, and fragment identifier.  It follows the basic format: <code>scheme://netloc/path;parameters?query#fragment</code>. The scheme can be <code>file, ftp, http, https,...</code>, the netloc is typically the host root url, like <code>www.google.com</code>, the path is a typical relative path, then the parameters and query specify arguments for GET, POST, PUT, etc.  So if we take the url <code>http://api.petfinder.com/my.method?key=12345&arg1=foo&token=67890&sig=abcdef</code> then it has scheme <code>http</code>, netloc of <code>api.petfinder.com</code>, path of <code>my.method</code>, and query is <code>key=12345&arg1=foo&token=67890&sig=abcdef</code>.  The functions <code>urlparse, urlunparse</code> will let you go from a url to a iterable of these components and back again.\n",
    "\n",
    "**Checkpoint:** Read through the [Request quickstart documentation](http://docs.python-requests.org/en/master/user/quickstart/)"
   ]
  },
  {
   "cell_type": "markdown",
   "metadata": {},
   "source": [
    "## Web APIs and JSON\n",
    "\n",
    "<p>\n",
    "  An application programming interface (API) is a set of methods by which software components communicate.\n",
    "  Web APIs define how HTTP request methods can be used to access and modify data on the server.\n",
    "  In modern web APIs you specify the URL of the API, such as <code>http://api.petfinder.com/subsystem.method</code> indicating the method, then specify arguments, and the desired data format (JSON, XML, etc.).\n",
    "  The API will read the parameters in the url, and then return raw JSON.\n",
    "</p>\n",
    "\n",
    "<p>\n",
    "  JSON, which is also specified by an RFC, like HTTP, is a simple data exchange format.\n",
    "  It is used for objects that are not necessarily simple lists or tables.\n",
    "  You should think of JSON in the same way that you think of CSV, it determines a way to turn a python object into a string that can be sent via HTTP or written to a file.\n",
    "  This conversion is called serialization, and to convert back is called deserialization.\n",
    "  JSON is very flexible since it is based on dictionaries and lists (called objects and arrays in JSON), and you can nest these in complex ways.\n",
    "  So for example, a matrix could be written as a list of lists, a DataFrame is a dictionary with column names for keys and lists for values, etc.\n",
    "  You can see a detailed description of JSON at <a href=\"http://json.org\">json.org</a>.\n",
    "</p>\n",
    "\n",
    "<h4>Checkpoint: Read through the basic JSON description at <a href=\"http://json.org\">the json documentation page.</a>"
   ]
  }
 ],
 "metadata": {
  "kernelspec": {
   "display_name": "Python 3",
   "language": "python",
   "name": "python3"
  },
  "language_info": {
   "codemirror_mode": {
    "name": "ipython",
    "version": 3
   },
   "file_extension": ".py",
   "mimetype": "text/x-python",
   "name": "python",
   "nbconvert_exporter": "python",
   "pygments_lexer": "ipython3",
   "version": "3.6.1"
  }
 },
 "nbformat": 4,
 "nbformat_minor": 2
}
