{
 "cells": [
  {
   "cell_type": "markdown",
   "metadata": {},
   "source": [
    "<h1>Getting Started with Matrices</h1>\n",
    "\n",
    "Let's import a matrix from the provided file.  It can be found at https://archive.ics.uci.edu/ml/datasets/seeds"
   ]
  },
  {
   "cell_type": "code",
   "execution_count": 3,
   "metadata": {
    "scrolled": true
   },
   "outputs": [],
   "source": [
    "import numpy as np\n",
    "seeds = np.loadtxt(\"data/seeds_dataset.txt\",dtype=np.float64)"
   ]
  },
  {
   "cell_type": "markdown",
   "metadata": {},
   "source": [
    "Column meanings for the seeds dataset\n",
    "1. area A, \n",
    "2. perimeter P, \n",
    "3. compactness C = 4*pi*A/P^2, \n",
    "4. length of kernel, \n",
    "5. width of kernel, \n",
    "6. asymmetry coefficient \n",
    "7. length of kernel groove. "
   ]
  },
  {
   "cell_type": "code",
   "execution_count": 4,
   "metadata": {},
   "outputs": [
    {
     "name": "stdout",
     "output_type": "stream",
     "text": [
      "[[ 14.88    14.57     0.8811   5.554    3.333    1.018    4.956    1.    ]\n",
      " [ 14.29    14.09     0.905    5.291    3.337    2.699    4.825    1.    ]\n",
      " [ 13.84    13.94     0.8955   5.324    3.379    2.259    4.805    1.    ]\n",
      " [ 16.14    14.99     0.9034   5.658    3.562    1.355    5.175    1.    ]\n",
      " [ 14.38    14.21     0.8951   5.386    3.312    2.462    4.956    1.    ]\n",
      " [ 14.69    14.49     0.8799   5.563    3.259    3.586    5.219    1.    ]\n",
      " [ 14.11    14.1      0.8911   5.42     3.302    2.7      5.       1.    ]\n",
      " [ 16.63    15.46     0.8747   6.053    3.465    2.04     5.877    1.    ]\n",
      " [ 16.44    15.25     0.888    5.884    3.505    1.969    5.533    1.    ]]\n"
     ]
    }
   ],
   "source": [
    "print(seeds[1:10,:])"
   ]
  },
  {
   "cell_type": "markdown",
   "metadata": {},
   "source": [
    "Attributes for matrices, try tab completion to see available methods"
   ]
  },
  {
   "cell_type": "code",
   "execution_count": 9,
   "metadata": {},
   "outputs": [
    {
     "name": "stdout",
     "output_type": "stream",
     "text": [
      "type: <class 'numpy.ndarray'>\n",
      "ndim: 2\n",
      "shape:(210, 8)\n",
      "size:1680\n",
      "dtype:float64\n"
     ]
    }
   ],
   "source": [
    "print(\"type: {}\\nndim: {}\\nshape:{}\\nsize:{}\\ndtype:{}\".format(\n",
    "    type(seeds),seeds.ndim,seeds.shape,seeds.size,seeds.dtype))"
   ]
  },
  {
   "cell_type": "code",
   "execution_count": 11,
   "metadata": {
    "collapsed": true
   },
   "outputs": [],
   "source": [
    "n,p = seeds.shape #Remember tuple unpacking!"
   ]
  },
  {
   "cell_type": "markdown",
   "metadata": {},
   "source": [
    "Let's initialize another array with a list"
   ]
  },
  {
   "cell_type": "code",
   "execution_count": 12,
   "metadata": {},
   "outputs": [
    {
     "name": "stdout",
     "output_type": "stream",
     "text": [
      "float64\n",
      "(210,)\n",
      "[ 1.  1.  1.  1.  1.  1.  1.  1.  1.  1.  1.  1.  1.  1.  1.  1.  1.  1.\n",
      "  1.  1.  1.  1.  1.  1.  1.  1.  1.  1.  1.  1.  1.  1.  1.  1.  1.  1.\n",
      "  1.  1.  1.  1.  1.  1.  1.  1.  1.  1.  1.  1.  1.  1.  1.  1.  1.  1.\n",
      "  1.  1.  1.  1.  1.  1.  1.  1.  1.  1.  1.  1.  1.  1.  1.  1.  1.  1.\n",
      "  1.  1.  1.  1.  1.  1.  1.  1.  1.  1.  1.  1.  1.  1.  1.  1.  1.  1.\n",
      "  1.  1.  1.  1.  1.  1.  1.  1.  1.  1.  1.  1.  1.  1.  1.  1.  1.  1.\n",
      "  1.  1.  1.  1.  1.  1.  1.  1.  1.  1.  1.  1.  1.  1.  1.  1.  1.  1.\n",
      "  1.  1.  1.  1.  1.  1.  1.  1.  1.  1.  1.  1.  1.  1.  1.  1.  1.  1.\n",
      "  1.  1.  1.  1.  1.  1.  1.  1.  1.  1.  1.  1.  1.  1.  1.  1.  1.  1.\n",
      "  1.  1.  1.  1.  1.  1.  1.  1.  1.  1.  1.  1.  1.  1.  1.  1.  1.  1.\n",
      "  1.  1.  1.  1.  1.  1.  1.  1.  1.  1.  1.  1.  1.  1.  1.  1.  1.  1.\n",
      "  1.  1.  1.  1.  1.  1.  1.  1.  1.  1.  1.  1.]\n"
     ]
    }
   ],
   "source": [
    "onelist = [1.0]*n\n",
    "onevec = np.array(onelist)\n",
    "print(onevec.dtype)\n",
    "print(onevec.shape)\n",
    "print(onevec)"
   ]
  },
  {
   "cell_type": "markdown",
   "metadata": {},
   "source": [
    "We can transpose really easily..."
   ]
  },
  {
   "cell_type": "code",
   "execution_count": 13,
   "metadata": {},
   "outputs": [
    {
     "name": "stdout",
     "output_type": "stream",
     "text": [
      "(8, 210)\n",
      "[[ 15.26    14.88    14.29   ...,  13.2     11.84    12.3   ]\n",
      " [ 14.84    14.57    14.09   ...,  13.66    13.21    13.34  ]\n",
      " [  0.871    0.8811   0.905  ...,   0.8883   0.8521   0.8684]\n",
      " ..., \n",
      " [  2.221    1.018    2.699  ...,   8.315    3.598    5.637 ]\n",
      " [  5.22     4.956    4.825  ...,   5.056    5.044    5.063 ]\n",
      " [  1.       1.       1.     ...,   3.       3.       3.    ]]\n"
     ]
    }
   ],
   "source": [
    "print(seeds.T.shape)\n",
    "print(seeds.T)"
   ]
  },
  {
   "cell_type": "markdown",
   "metadata": {},
   "source": [
    "What should happen if we do the following?"
   ]
  },
  {
   "cell_type": "code",
   "execution_count": 14,
   "metadata": {},
   "outputs": [
    {
     "name": "stdout",
     "output_type": "stream",
     "text": [
      "[ 3117.98    3057.45     182.9097  1181.992    684.307    777.0422\n",
      "  1135.695    420.    ]\n",
      "[ 3117.98    3057.45     182.9097  1181.992    684.307    777.0422\n",
      "  1135.695    420.    ]\n"
     ]
    }
   ],
   "source": [
    "print(seeds.T.dot(onevec))\n",
    "print(np.sum(seeds,axis=0)) #sum along one axis - vectorization!"
   ]
  },
  {
   "cell_type": "markdown",
   "metadata": {},
   "source": [
    "Let's think about a way to do this without numpy..."
   ]
  },
  {
   "cell_type": "code",
   "execution_count": 15,
   "metadata": {
    "collapsed": true
   },
   "outputs": [],
   "source": [
    "def mult_ones(seeds):\n",
    "    output = [0.]*p\n",
    "    for row in seeds: #arrays are iterable and return the rows\n",
    "        for i in range(p):\n",
    "            output[i] += row[i]\n",
    "    return output"
   ]
  },
  {
   "cell_type": "code",
   "execution_count": 18,
   "metadata": {},
   "outputs": [
    {
     "name": "stdout",
     "output_type": "stream",
     "text": [
      "The slowest run took 7.28 times longer than the fastest. This could mean that an intermediate result is being cached.\n",
      "1000 loops, best of 3: 661 µs per loop\n"
     ]
    }
   ],
   "source": [
    "%timeit output = mult_ones(seeds)"
   ]
  },
  {
   "cell_type": "code",
   "execution_count": 19,
   "metadata": {},
   "outputs": [
    {
     "name": "stdout",
     "output_type": "stream",
     "text": [
      "The slowest run took 211.48 times longer than the fastest. This could mean that an intermediate result is being cached.\n",
      "100000 loops, best of 3: 1.95 µs per loop\n"
     ]
    }
   ],
   "source": [
    "%timeit seeds.T.dot(onevec)"
   ]
  },
  {
   "cell_type": "code",
   "execution_count": 162,
   "metadata": {},
   "outputs": [
    {
     "name": "stdout",
     "output_type": "stream",
     "text": [
      "[[ 1.  1.  1.  1.]\n",
      " [ 1.  1.  1.  1.]\n",
      " [ 1.  1.  1.  1.]\n",
      " [ 1.  1.  1.  1.]]\n",
      "[[ 0.  0.  0.  0.]\n",
      " [ 0.  0.  0.  0.]\n",
      " [ 0.  0.  0.  0.]\n",
      " [ 0.  0.  0.  0.]]\n",
      "[[ 1.  0.  0.  0.]\n",
      " [ 0.  1.  0.  0.]\n",
      " [ 0.  0.  1.  0.]\n",
      " [ 0.  0.  0.  1.]]\n"
     ]
    }
   ],
   "source": [
    "## Special matrices\n",
    "onesmat = np.ones((4,4))\n",
    "zerosmat = np.zeros((4,4))\n",
    "print(onesmat)\n",
    "print(zerosmat)\n",
    "ident = np.eye(4)\n",
    "print(ident)"
   ]
  },
  {
   "cell_type": "markdown",
   "metadata": {},
   "source": [
    "This is quite a bit faster!"
   ]
  },
  {
   "cell_type": "markdown",
   "metadata": {},
   "source": [
    "<h1>Matrix Slicing</h1>"
   ]
  },
  {
   "cell_type": "code",
   "execution_count": 20,
   "metadata": {},
   "outputs": [
    {
     "name": "stdout",
     "output_type": "stream",
     "text": [
      "(210, 8)\n",
      "[ 15.26   14.84    0.871 ...,   5.637   5.063   3.   ]\n",
      "[[ 15.26    14.84     0.871  ...,   2.221    5.22     1.    ]\n",
      " [ 14.88    14.57     0.8811 ...,   1.018    4.956    1.    ]\n",
      " [ 14.29    14.09     0.905  ...,   2.699    4.825    1.    ]\n",
      " ..., \n",
      " [ 13.2     13.66     0.8883 ...,   8.315    5.056    3.    ]\n",
      " [ 11.84    13.21     0.8521 ...,   3.598    5.044    3.    ]\n",
      " [ 12.3     13.34     0.8684 ...,   5.637    5.063    3.    ]]\n"
     ]
    }
   ],
   "source": [
    "print(seeds.shape)\n",
    "seeds.shape = (n*p) #oops!\n",
    "print(seeds)\n",
    "seeds = seeds.reshape((n,p))\n",
    "print(seeds)"
   ]
  },
  {
   "cell_type": "code",
   "execution_count": 24,
   "metadata": {},
   "outputs": [
    {
     "name": "stdout",
     "output_type": "stream",
     "text": [
      "(10, 8)\n",
      "(210, 4)\n",
      "(10, 4)\n",
      "(210, 4)\n"
     ]
    }
   ],
   "source": [
    "#Here are some examples of slicing!\n",
    "print(seeds[10:20,:].shape)\n",
    "print(seeds[:,0:4].shape)\n",
    "print(seeds[10:20,0:4].shape)\n",
    "print(seeds[:,-4:].shape)"
   ]
  },
  {
   "cell_type": "code",
   "execution_count": 29,
   "metadata": {},
   "outputs": [
    {
     "name": "stdout",
     "output_type": "stream",
     "text": [
      "sum: 10557.3759\n",
      "mean: 6.284152321428571\n",
      "min: 0.7651\n",
      "max: 21.18\n"
     ]
    }
   ],
   "source": [
    "print(\"sum: {}\\nmean: {}\\nmin: {}\\nmax: {}\".format(\n",
    "    seeds.sum(), seeds.mean(), seeds.min(), seeds.max()))"
   ]
  },
  {
   "cell_type": "code",
   "execution_count": 30,
   "metadata": {},
   "outputs": [
    {
     "name": "stdout",
     "output_type": "stream",
     "text": [
      "[ 0  1  2  3  4  5  6  7  8  9 10 11 12 13 14 15 16 17 18 19]\n"
     ]
    },
    {
     "data": {
      "text/plain": [
       "9.5"
      ]
     },
     "execution_count": 30,
     "metadata": {},
     "output_type": "execute_result"
    }
   ],
   "source": [
    "ran = np.arange(20)\n",
    "print(ran)\n",
    "ran.mean()"
   ]
  },
  {
   "cell_type": "code",
   "execution_count": 31,
   "metadata": {},
   "outputs": [
    {
     "name": "stdout",
     "output_type": "stream",
     "text": [
      "sum: [ 3117.98    3057.45     182.9097  1181.992    684.307    777.0422\n",
      "  1135.695    420.    ]\n",
      "mean: [ 14.84752381  14.55928571   0.87099857   5.62853333   3.25860476\n",
      "   3.70020095   5.40807143   2.        ]\n",
      "min: [ 10.59    12.41     0.8081   4.899    2.63     0.7651   4.519    1.    ]\n",
      "max: [ 21.18    17.25     0.9183   6.675    4.033    8.456    6.55     3.    ]\n"
     ]
    }
   ],
   "source": [
    "print(\"sum: {}\\nmean: {}\\nmin: {}\\nmax: {}\".format(\n",
    "    seeds.sum(axis=0), seeds.mean(axis=0), \n",
    "    seeds.min(axis=0), seeds.max(axis=0)))"
   ]
  },
  {
   "cell_type": "code",
   "execution_count": 32,
   "metadata": {},
   "outputs": [
    {
     "name": "stdout",
     "output_type": "stream",
     "text": [
      "[[  1.52600000e+01   1.48400000e+01   8.71000000e-01 ...,   2.22100000e+00\n",
      "    5.22000000e+00   1.00000000e+00]\n",
      " [  3.01400000e+01   2.94100000e+01   1.75210000e+00 ...,   3.23900000e+00\n",
      "    1.01760000e+01   2.00000000e+00]\n",
      " [  4.44300000e+01   4.35000000e+01   2.65710000e+00 ...,   5.93800000e+00\n",
      "    1.50010000e+01   3.00000000e+00]\n",
      " ..., \n",
      " [  3.09384000e+03   3.03090000e+03   1.81189200e+02 ...,   7.67807200e+02\n",
      "    1.12558800e+03   4.14000000e+02]\n",
      " [  3.10568000e+03   3.04411000e+03   1.82041300e+02 ...,   7.71405200e+02\n",
      "    1.13063200e+03   4.17000000e+02]\n",
      " [  3.11798000e+03   3.05745000e+03   1.82909700e+02 ...,   7.77042200e+02\n",
      "    1.13569500e+03   4.20000000e+02]]\n"
     ]
    }
   ],
   "source": [
    "print(seeds.cumsum(axis=0)) #really handy!"
   ]
  },
  {
   "cell_type": "code",
   "execution_count": 34,
   "metadata": {},
   "outputs": [
    {
     "name": "stdout",
     "output_type": "stream",
     "text": [
      "[[ 14.29  14.09]\n",
      " [ 15.69  14.75]\n",
      " [ 18.98  16.57]]\n",
      "[False False False False False False False False False False]\n",
      "[[ 20.71    17.23     0.8763   6.579 ]\n",
      " [ 20.2     16.89     0.8894   6.285 ]\n",
      " [ 21.18    17.21     0.8989   6.573 ]\n",
      " [ 20.88    17.05     0.9031   6.45  ]\n",
      " [ 20.1     16.99     0.8746   6.581 ]\n",
      " [ 20.97    17.25     0.8859   6.563 ]\n",
      " [ 20.03    16.9      0.8811   6.493 ]\n",
      " [ 20.24    16.91     0.8897   6.315 ]\n",
      " [ 20.16    17.03     0.8735   6.513 ]]\n"
     ]
    }
   ],
   "source": [
    "## Boolean and list indexing\n",
    "myrows = [2,17,97]\n",
    "print(seeds[myrows,0:2])\n",
    "rowslarge = seeds[:,0]>20\n",
    "print(rowslarge[0:10])\n",
    "print(seeds[rowslarge,0:4])"
   ]
  },
  {
   "cell_type": "markdown",
   "metadata": {},
   "source": [
    "<h1>Matrix operations</h1>"
   ]
  },
  {
   "cell_type": "code",
   "execution_count": 36,
   "metadata": {},
   "outputs": [
    {
     "name": "stdout",
     "output_type": "stream",
     "text": [
      "[[ 1.526    1.484    0.0871  ...,  0.2221   0.522    0.1    ]\n",
      " [ 1.488    1.457    0.08811 ...,  0.1018   0.4956   0.1    ]\n",
      " [ 1.429    1.409    0.0905  ...,  0.2699   0.4825   0.1    ]\n",
      " ..., \n",
      " [ 1.32     1.366    0.08883 ...,  0.8315   0.5056   0.3    ]\n",
      " [ 1.184    1.321    0.08521 ...,  0.3598   0.5044   0.3    ]\n",
      " [ 1.23     1.334    0.08684 ...,  0.5637   0.5063   0.3    ]]\n",
      "[[  0.42    13.969   -4.892  ...,   1.091   -2.999    4.22  ]\n",
      " [  0.31    13.6889  -4.6729 ...,   2.315   -3.938    3.956 ]\n",
      " [  0.2     13.185   -4.386  ...,   0.638   -2.126    3.825 ]\n",
      " ..., \n",
      " [ -0.46    12.7717  -4.3477 ...,  -5.083    3.259    2.056 ]\n",
      " [ -1.37    12.3579  -4.3229 ...,  -0.762   -1.446    2.044 ]\n",
      " [ -1.04    12.4716  -4.3746 ...,  -2.663    0.574    2.063 ]]\n"
     ]
    }
   ],
   "source": [
    "## Some elementwise operations\n",
    "decseeds = seeds/10.0 \n",
    "print(decseeds)\n",
    "mulseeds = 15*seeds - 1.\n",
    "print(seeds[:,0:-1] - seeds[:,1:])"
   ]
  },
  {
   "cell_type": "code",
   "execution_count": 39,
   "metadata": {},
   "outputs": [
    {
     "name": "stdout",
     "output_type": "stream",
     "text": [
      "[[ 0.42264993  0.39474114]\n",
      " [ 0.39743294  0.37637953]]\n",
      "[[ 4.59974101  4.41055265]\n",
      " [ 4.4282302   4.29306101]]\n",
      "[[ 1.23531373  1.21819539]\n",
      " [ 1.21983605  1.20706255]]\n"
     ]
    }
   ],
   "source": [
    "## Elementwise functions\n",
    "print(np.log(decseeds)[0:2,0:2])\n",
    "print(np.exp(decseeds)[0:2,0:2])\n",
    "print(np.sqrt(decseeds)[0:2,0:2])"
   ]
  },
  {
   "cell_type": "markdown",
   "metadata": {},
   "source": [
    "Recall that the empirical covariance matrix is \n",
    "$$ \n",
    "\\hat \\Sigma_{j,k} = \\frac{1}{n-1} \\sum_{i=1}^n (x_{i,j} - \\bar x_j) (x_{i,k} - \\bar x_k)\n",
    "$$"
   ]
  },
  {
   "cell_type": "code",
   "execution_count": 40,
   "metadata": {},
   "outputs": [
    {
     "name": "stdout",
     "output_type": "stream",
     "text": [
      "[[ 0.41247619  0.28071429]\n",
      " [ 0.03247619  0.01071429]]\n",
      "[[ 8.42603482  3.76045061]\n",
      " [ 3.76045061  1.69740663]]\n"
     ]
    }
   ],
   "source": [
    "## Normalization of a matrix\n",
    "seedcentered = seeds - seeds.mean(axis=0)\n",
    "print(seedcentered[0:2,0:2])\n",
    "seedcov = seedcentered.T.dot(seedcentered) / (n-1)\n",
    "print(seedcov[0:2,0:2])"
   ]
  },
  {
   "cell_type": "code",
   "execution_count": 42,
   "metadata": {},
   "outputs": [
    {
     "name": "stdout",
     "output_type": "stream",
     "text": [
      "13.6183448104\n",
      "(array([  1.08364768e+01,   2.31997067e+00,   3.95063452e-01,\n",
      "         5.42424532e-02,   8.45141665e-03,   2.64188341e-03,\n",
      "         1.47287013e-03,   2.52487858e-05]), array([[  8.79582631e-01,  -1.26116017e-01,   1.08610184e-03,\n",
      "         -3.03317473e-01,  -1.38879757e-01,  -1.52061885e-01,\n",
      "          2.74204862e-01,   2.87709147e-02],\n",
      "       [  3.93152050e-01,  -6.88744128e-02,  -3.78014389e-02,\n",
      "          3.68106006e-01,   5.50519006e-01,   5.58355464e-01,\n",
      "         -2.89509008e-01,  -7.14796114e-02],\n",
      "       [  4.34850558e-03,   3.19106495e-03,   1.10692713e-02,\n",
      "         -6.22063083e-02,  -6.73806848e-02,  -3.86618542e-02,\n",
      "         -3.25631128e-02,  -9.94426218e-01],\n",
      "       [  1.27612344e-01,  -3.59319716e-02,  -5.20419510e-02,\n",
      "          4.78550309e-01,   2.85063369e-01,  -7.95326618e-01,\n",
      "         -1.91705751e-01,  -1.21890190e-02],\n",
      "       [  1.10732226e-01,  -3.08242317e-03,   5.79051315e-02,\n",
      "         -3.33897486e-01,  -2.50826296e-01,  -6.20307997e-02,\n",
      "         -8.95055892e-01,   7.07222508e-02],\n",
      "       [ -1.33456653e-01,  -9.31134267e-01,   3.39262704e-01,\n",
      "          6.36595314e-03,   1.45668515e-04,   8.65301100e-04,\n",
      "          6.13425841e-03,  -4.37718145e-04],\n",
      "       [  1.27049932e-01,  -9.49343582e-02,  -2.21582666e-01,\n",
      "          6.18554960e-01,  -7.17529682e-01,   1.63562943e-01,\n",
      "         -3.90904919e-02,   2.63032002e-03],\n",
      "       [ -9.61667866e-02,  -3.19400562e-01,  -9.10048303e-01,\n",
      "         -2.13256092e-01,   1.18647628e-01,  -2.18125285e-02,\n",
      "         -2.22268046e-02,  -4.69876868e-03]]))\n"
     ]
    }
   ],
   "source": [
    "## Some linear algebra operations\n",
    "print(seedcov.trace())\n",
    "print(np.linalg.eig(seedcov)) #TDB"
   ]
  },
  {
   "cell_type": "markdown",
   "metadata": {},
   "source": [
    "Stacking arrays:"
   ]
  },
  {
   "cell_type": "code",
   "execution_count": 43,
   "metadata": {},
   "outputs": [
    {
     "name": "stdout",
     "output_type": "stream",
     "text": [
      "(210,)\n"
     ]
    }
   ],
   "source": [
    "ratvec = seeds[:,4] / seeds[:,5]\n",
    "print(ratvec.shape)"
   ]
  },
  {
   "cell_type": "code",
   "execution_count": 44,
   "metadata": {},
   "outputs": [
    {
     "ename": "ValueError",
     "evalue": "all the input arrays must have same number of dimensions",
     "output_type": "error",
     "traceback": [
      "\u001b[0;31m---------------------------------------------------------------------------\u001b[0m",
      "\u001b[0;31mValueError\u001b[0m                                Traceback (most recent call last)",
      "\u001b[0;32m<ipython-input-44-7b3c50cc2a8f>\u001b[0m in \u001b[0;36m<module>\u001b[0;34m()\u001b[0m\n\u001b[0;32m----> 1\u001b[0;31m \u001b[0mnp\u001b[0m\u001b[0;34m.\u001b[0m\u001b[0mhstack\u001b[0m\u001b[0;34m(\u001b[0m\u001b[0;34m(\u001b[0m\u001b[0mseeds\u001b[0m\u001b[0;34m,\u001b[0m\u001b[0mratvec\u001b[0m\u001b[0;34m)\u001b[0m\u001b[0;34m)\u001b[0m \u001b[0;31m#error\u001b[0m\u001b[0;34m\u001b[0m\u001b[0m\n\u001b[0m",
      "\u001b[0;32m/home/jsharpna/anaconda3/lib/python3.6/site-packages/numpy/core/shape_base.py\u001b[0m in \u001b[0;36mhstack\u001b[0;34m(tup)\u001b[0m\n\u001b[1;32m    286\u001b[0m         \u001b[0;32mreturn\u001b[0m \u001b[0m_nx\u001b[0m\u001b[0;34m.\u001b[0m\u001b[0mconcatenate\u001b[0m\u001b[0;34m(\u001b[0m\u001b[0marrs\u001b[0m\u001b[0;34m,\u001b[0m \u001b[0;36m0\u001b[0m\u001b[0;34m)\u001b[0m\u001b[0;34m\u001b[0m\u001b[0m\n\u001b[1;32m    287\u001b[0m     \u001b[0;32melse\u001b[0m\u001b[0;34m:\u001b[0m\u001b[0;34m\u001b[0m\u001b[0m\n\u001b[0;32m--> 288\u001b[0;31m         \u001b[0;32mreturn\u001b[0m \u001b[0m_nx\u001b[0m\u001b[0;34m.\u001b[0m\u001b[0mconcatenate\u001b[0m\u001b[0;34m(\u001b[0m\u001b[0marrs\u001b[0m\u001b[0;34m,\u001b[0m \u001b[0;36m1\u001b[0m\u001b[0;34m)\u001b[0m\u001b[0;34m\u001b[0m\u001b[0m\n\u001b[0m\u001b[1;32m    289\u001b[0m \u001b[0;34m\u001b[0m\u001b[0m\n\u001b[1;32m    290\u001b[0m \u001b[0;32mdef\u001b[0m \u001b[0mstack\u001b[0m\u001b[0;34m(\u001b[0m\u001b[0marrays\u001b[0m\u001b[0;34m,\u001b[0m \u001b[0maxis\u001b[0m\u001b[0;34m=\u001b[0m\u001b[0;36m0\u001b[0m\u001b[0;34m)\u001b[0m\u001b[0;34m:\u001b[0m\u001b[0;34m\u001b[0m\u001b[0m\n",
      "\u001b[0;31mValueError\u001b[0m: all the input arrays must have same number of dimensions"
     ]
    }
   ],
   "source": [
    "np.hstack((seeds,ratvec)) #error"
   ]
  },
  {
   "cell_type": "code",
   "execution_count": 45,
   "metadata": {},
   "outputs": [
    {
     "data": {
      "text/plain": [
       "array([[ 15.26      ,  14.84      ,   0.871     , ...,   5.22      ,\n",
       "          1.        ,   1.49122017],\n",
       "       [ 14.88      ,  14.57      ,   0.8811    , ...,   4.956     ,\n",
       "          1.        ,   3.2740668 ],\n",
       "       [ 14.29      ,  14.09      ,   0.905     , ...,   4.825     ,\n",
       "          1.        ,   1.23638385],\n",
       "       ..., \n",
       "       [ 13.2       ,  13.66      ,   0.8883    , ...,   5.056     ,\n",
       "          3.        ,   0.38869513],\n",
       "       [ 11.84      ,  13.21      ,   0.8521    , ...,   5.044     ,\n",
       "          3.        ,   0.78821568],\n",
       "       [ 12.3       ,  13.34      ,   0.8684    , ...,   5.063     ,\n",
       "          3.        ,   0.5275856 ]])"
      ]
     },
     "execution_count": 45,
     "metadata": {},
     "output_type": "execute_result"
    }
   ],
   "source": [
    "ratmat = ratvec.reshape((n,1))\n",
    "np.hstack((seeds,ratmat))"
   ]
  },
  {
   "cell_type": "code",
   "execution_count": 47,
   "metadata": {},
   "outputs": [
    {
     "name": "stdout",
     "output_type": "stream",
     "text": [
      "(21, 8)\n"
     ]
    },
    {
     "data": {
      "text/plain": [
       "array([[ 15.26  ,  14.84  ,   0.871 , ...,   2.221 ,   5.22  ,   1.    ],\n",
       "       [ 14.88  ,  14.57  ,   0.8811, ...,   1.018 ,   4.956 ,   1.    ],\n",
       "       [ 14.29  ,  14.09  ,   0.905 , ...,   2.699 ,   4.825 ,   1.    ],\n",
       "       ..., \n",
       "       [ 11.41  ,  12.95  ,   0.856 , ...,   4.957 ,   4.825 ,   3.    ],\n",
       "       [ 10.93  ,  12.8   ,   0.839 , ...,   5.398 ,   5.045 ,   3.    ],\n",
       "       [ 12.38  ,  13.44  ,   0.8609, ...,   5.472 ,   5.045 ,   3.    ]])"
      ]
     },
     "execution_count": 47,
     "metadata": {},
     "output_type": "execute_result"
    }
   ],
   "source": [
    "everyten = seeds[0:n:10,:]\n",
    "print(everyten.shape)\n",
    "np.vstack((seeds,everyten))"
   ]
  },
  {
   "cell_type": "code",
   "execution_count": 49,
   "metadata": {},
   "outputs": [
    {
     "name": "stdout",
     "output_type": "stream",
     "text": [
      "[[ 0  1]\n",
      " [ 2  3]\n",
      " [ 4  5]\n",
      " [ 6  7]\n",
      " [ 8  9]\n",
      " [10 11]\n",
      " [12 13]\n",
      " [14 15]\n",
      " [16 17]\n",
      " [18 19]]\n"
     ]
    },
    {
     "data": {
      "text/plain": [
       "(10, 2)"
      ]
     },
     "execution_count": 49,
     "metadata": {},
     "output_type": "execute_result"
    }
   ],
   "source": [
    "## The difference between a copy and assignment\n",
    "A = np.arange(20)\n",
    "B = A\n",
    "A.shape = (10,2)\n",
    "print(A)\n",
    "B.shape"
   ]
  },
  {
   "cell_type": "code",
   "execution_count": 135,
   "metadata": {},
   "outputs": [
    {
     "data": {
      "text/plain": [
       "(20L,)"
      ]
     },
     "execution_count": 135,
     "metadata": {},
     "output_type": "execute_result"
    }
   ],
   "source": [
    "A = np.arange(20)\n",
    "B = A.copy()\n",
    "A.shape = (10,2)\n",
    "B.shape"
   ]
  }
 ],
 "metadata": {
  "kernelspec": {
   "display_name": "Python 3",
   "language": "python",
   "name": "python3"
  },
  "language_info": {
   "codemirror_mode": {
    "name": "ipython",
    "version": 3
   },
   "file_extension": ".py",
   "mimetype": "text/x-python",
   "name": "python",
   "nbconvert_exporter": "python",
   "pygments_lexer": "ipython3",
   "version": "3.6.1"
  }
 },
 "nbformat": 4,
 "nbformat_minor": 1
}
