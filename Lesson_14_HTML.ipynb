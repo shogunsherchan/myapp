{
 "cells": [
  {
   "cell_type": "markdown",
   "metadata": {},
   "source": [
    "Lesson 14: Parsing HTML\n",
    "====================\n",
    "---\n",
    "Prof. James Sharpnack<br>\n",
    "Statistics Department, UC Davis<br>\n",
    "&copy; 2018"
   ]
  },
  {
   "cell_type": "markdown",
   "metadata": {},
   "source": [
    "## HTML\n",
    "\n",
    "There are lots of html and css tutorials online, for example <a href=\"https://www.codecademy.com/learn/web\">codecademy</a>. HTML is short for hypertext markup language, which means that it is not a sequential programming language, like Python, but rather a markup language.  This means that it is used for modifying text with hidden tags.  Recall that other examples of markup languages are TeX and XML.  Your browser reads the html file, with the tags and everything and turns it into text with different fonts, colors, structure, etc.  The first thing you should do is to right click on any webpage and to click view source. You should see a bunch of tags that look like &lt;TAG NAME&gt;STUFF BETWEEN TAGS&lt;\\TAG NAME&gt;, which will operate on the text between the tags. For example, you should see that a paragraph is surrounded by &lt;p&gt;&lt;\\p&gt; \n",
    "\n",
    "There are several such tags to bold &lt;strong&gt; text, create hyperlinks &lt;a href=\"site.html\"&gt;, create headers &lt;h1&gt;, &lt;h2&gt;, create unordered lists &lt;ul&gt;, tables &lt;table&gt;, newline &lt;br&gt;, display image &lt;img&gt; (see the tables <a href=\"https://www.washington.edu/accesscomputing/webd2/student/unit2/common_tags.html\">in this course website</a>).  The html file has two main sections, the header and the body.  The header specifies metadata and scripts, and the body has the main content.  If you rely on just these tags to make a website then you typically get something that looks <a href=\"http://www.conficturaindustries.com/\">like it's from the 1990s</a>.  This is because HTML only gives semantic structure to text, and does not specify or customize how these tags are visually represented.  When you only give the browser an html file with no style instructions, then it will revert to the default style.\n",
    "\n",
    "Instead, people use CSS to define the visual meaning of the HTML, which is given in separate stylesheet files.  For example, if you look at the header of <a href=\"http://jsharpna.github.io\">my homepage index</a> (view source), then you see the line \n",
    "<verbatim><pre>&lt;link rel=\"stylesheet\" type=\"text/css\" href=\"stylesheets/stylesheet.css\" media=\"screen\"&gt;</pre></verbatim>\n",
    "and then if you go to \n",
    "<a href=\"http://jsharpna.github.io/stylesheets/stylesheet.css\">the css file</a> and search for page-header, you find lines like this:\n",
    "<verbatim><pre>.page-header {\n",
    "  padding: 2rem 6rem; }</pre></verbatim>\n",
    "This indicates that the page header has a certain amount of padding around the text.  There are tons of such properties that you can modify to change how the browser displays your html."
   ]
  },
  {
   "cell_type": "markdown",
   "metadata": {},
   "source": [
    "## The DOM and BeautifulSoup\n",
    "\n",
    "Just know that there are tags, such as <code>div, a, body, span</code> that will wrap more markup.  This happens by the use of openning and closing tags <code>&lt;div class='example'&gt;text in between&lt;&#47;div&gt;</code> where the closing tag matches the openning tag, except there is an additional &#47;.  The tag has a name, div, and some attributes, such as class='example'.  When you request an html file from a webserver, it is returned as a string, and you will need to process the html.  BeautifulSoup and lxml can help with that by parsing it based on the tags.  \n",
    "\n",
    "Because a tag has an opening and a closing tag, they form a hierarchical document structure.  An opening and closing tag pair forms an element, which includes everything in between the tags.  If a tag is nested inside of another tag, such as \n",
    "```\n",
    "<p>Have you tried the <a href=\"salmon.html\">salmon</a></p>\n",
    "```\n",
    "then we say that that tag is a child of the other.  This means that the tags will naturally have a tree structure, called the Document Object Model (DOM).  This is because tree structures require relationships between objects to be a parent-child type, so that each element branches to its children.  For example, the HTML, <code>&lt;div&gt;&lt;p&gt;text 1&lt;&#47;p&gt;&lt;span&gt;text 1&lt;&#47;span&gt;&lt;&#47;div&gt;</code> has a div tag with children p and span.  Each of these have accompanying text.  BeautifulSoup will construct the DOM from the HTML and help you navigate the DOM.\n",
    "</p>\n",
    "\n",
    "<h4>Checkpoint: Go through the <a href=\"https://www.crummy.com/software/BeautifulSoup/bs4/doc/\">documentation front page</a> and install BeautifulSoup through conda.</h4>\n",
    "\n",
    "Here is a basic example of a DOM with two nested tags."
   ]
  },
  {
   "cell_type": "code",
   "execution_count": 2,
   "metadata": {},
   "outputs": [
    {
     "name": "stdout",
     "output_type": "stream",
     "text": [
      "<?xml version=\"1.0\" encoding=\"utf-8\"?>\n",
      "<p>\n",
      " Have you tried the\n",
      " <a href=\"salmon.html\">\n",
      "  salmon\n",
      " </a>\n",
      "</p>\n"
     ]
    }
   ],
   "source": [
    "from bs4 import BeautifulSoup\n",
    "\n",
    "testhtml = \"<p>Have you tried the <a href='salmon.html'>salmon</a></p>\"\n",
    "testbs = BeautifulSoup(testhtml,'lxml-xml')\n",
    "print(testbs.prettify())"
   ]
  },
  {
   "cell_type": "code",
   "execution_count": 34,
   "metadata": {},
   "outputs": [
    {
     "name": "stdout",
     "output_type": "stream",
     "text": [
      "p {} Have you tried the salmon\n"
     ]
    }
   ],
   "source": [
    "ptag = testbs.p\n",
    "print(ptag.name,ptag.attrs,ptag.text)"
   ]
  },
  {
   "cell_type": "code",
   "execution_count": 29,
   "metadata": {},
   "outputs": [],
   "source": [
    "pchildn = iter(ptag.children)"
   ]
  },
  {
   "cell_type": "code",
   "execution_count": 30,
   "metadata": {},
   "outputs": [
    {
     "name": "stdout",
     "output_type": "stream",
     "text": [
      "Have you tried the \n"
     ]
    }
   ],
   "source": [
    "b = next(pchildn)\n",
    "print(b)"
   ]
  },
  {
   "cell_type": "code",
   "execution_count": 32,
   "metadata": {},
   "outputs": [
    {
     "data": {
      "text/plain": [
       "('a', 'salmon', {'href': 'salmon.html'})"
      ]
     },
     "execution_count": 32,
     "metadata": {},
     "output_type": "execute_result"
    }
   ],
   "source": [
    "b = next(pchildn)\n",
    "b.name, b.text, b.attrs"
   ]
  },
  {
   "cell_type": "markdown",
   "metadata": {},
   "source": [
    "In the above, the document had a single child, the element wrapped by the `p` tag.  This had two elements as children, the text `Have you tried the ` and the element wrapped by the `a` tag.  The `a` tag had the attribute with key `href` and value `'salmon.html'`, it also had the text `salmon`.  BeautifulSoup objects also allow you to find all of the tags with a certain name, extract all of the text, etc. (You should have seen this in the BS documentation.) "
   ]
  }
 ],
 "metadata": {
  "kernelspec": {
   "display_name": "Python 3",
   "language": "python",
   "name": "python3"
  },
  "language_info": {
   "codemirror_mode": {
    "name": "ipython",
    "version": 3
   },
   "file_extension": ".py",
   "mimetype": "text/x-python",
   "name": "python",
   "nbconvert_exporter": "python",
   "pygments_lexer": "ipython3",
   "version": "3.6.4"
  }
 },
 "nbformat": 4,
 "nbformat_minor": 2
}
