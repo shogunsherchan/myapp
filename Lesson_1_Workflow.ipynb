{
 "cells": [
  {
   "cell_type": "markdown",
   "metadata": {},
   "source": [
    "Lesson 1: Your data science workflow\n",
    "====================\n",
    "---\n",
    "Prof. James Sharpnack<br>\n",
    "Statistics Department, UC Davis<br>\n",
    "&copy; 2017"
   ]
  },
  {
   "cell_type": "markdown",
   "metadata": {},
   "source": [
    "## Computing Architecture\n",
    "The first thing to know is your computing architecture. Most of you will be using your laptops, which will likely be running Windows or Mac OS. This is fine, although it is not quite as seemless as using a modern distribution of linux. Linux allows you to have a much finer control of your machine, and I will occasionally show you something that is exclusively a linux thing. If you are using a laptop then your architecture will be a 32 or 64 bit CPU with X cores and X Gb RAM and such and such graphics processing unit. Maybe you're remotely accessing a virtual machine on a cloud computing system like Amazon's AWS, where you select the architecture that you want and they charge accordingly. Whenever possible I will try to demonstrate things on both a Windows and linux machine (I typically use Ubuntu). If you are using Mac OS, then you can either try the linux command in terminal (OS X was built from unix so many things carry over) or google it. I am currently running Windows on a Microsoft Surface Pro, and if I open \"system information\" then I can see my computer's specs.\n",
    "\n",
    "```OS Name: Microsoft Windows 10 Pro\n",
    "Version: 10.0.14393\n",
    "System Type: x64-based PC\n",
    "RAM: 16 GB\n",
    "Processor: Intel Core i5-6300U CPU @ 2.40 GHz, 2 Cores\n",
    "(Components->Display) Intel HD Graphics 520```\n",
    "\n",
    "**Checkpoint 1: Look at the specs for your machine, if you don't know how to find that then as always Google it.**"
   ]
  },
  {
   "cell_type": "markdown",
   "metadata": {},
   "source": [
    "What does this tell me? First, I'm using Windows 10, the sports blazer of operating systems (as opposed to the black turtleneck and the free, hole-ridden t-shirt). Second, my machine has a 64-bit CPU, which indicates, roughly, the size of integers that the CPU works with (a bit is a 0 or 1, and so 64 bits allows us to store 2^64 distinct integers). This is in contrast with a 32-bit architecture, which only allows us to store 2^32, which is roughly 4 billion. The CPU has a register, which is a small chunk of memory that helps it keep track of where it stores things in RAM, and it does this by assigning a number to the places in memory, so if there are only 4 billion values it can take, then you can only work with 4 Gigabytes at a time. This may seem like alot, but if you want to store a matrix that is 10^5 by 10^5 then you need 10^10 bytes which is more than 4 GB (this happens more than you think!). Think about a dataset that records the number of times individual A likes an facebook post of individual B.\tEach day facebook generates 4.5 Billion likes, and there are 1.7 Billion users on facebook, and we assign each user on facebook a 8 bit (1 byte) user ID, similar to a social security number. Then for each like, we can record the two user IDs, the first being the liker and the second being the likee. This comes out to a 9 GB dataset per day, and this only stores who likes whom, not the content, time, length, media type, or comments of the post. On a 32-bit CPU, I cannot have a process that stores and remembers where all of the values are in RAM, and will have to process the data in chunks.\n",
    "\n",
    "Third, I have 16GB of RAM, which means that I can theoretically store 16 billion bytes (a byte is 8 bits) in RAM. We may talk about the real difference between the types of memory later in the course, but for now just know that it is much much faster to access RAM than the hard drive, so be grateful that you have it. Fourth, I have two cores of Intel processors at 2.4 GHz, which indicates the number of processes that I can run in parallel (2) and the speed of each is clocked at 2.4 GHz. And finally, I am using a Intel HD Graphics 520 graphics card. A graphics card is like a mini-computer with an entirely different architecture than the rest of the machine. It is designed to be able to do operations that are common to graphics processing, and so contains typically hundreds or thousands of small cores that share memory with each other. You can program these GPUs to run scripts that take advantage of this parallel architecture, which is common practice in computer graphics and machine learning.\n",
    "> The tailoring of algorithms, such as neural nets, to various computing architectures, such as GPUs, is a major driver of new developments in artificial intelligence and machine learning."
   ]
  },
  {
   "cell_type": "markdown",
   "metadata": {},
   "source": [
    "## Tools of the trade...\n",
    "In this class, we will be using Python to program scripts that will process data. Python is well suited for data science because of the interactive shell via ipython, the interactive computing environment via jupyter, the flexibility and neatness of python as a programming language, and most importantly, the huge number of open source packages.  You can get all of what you need installed through Anaconda, which is a python data science platform.  Go to [anaconda.com](https://www.anaconda.com), download anaconda for your OS, and install.\n",
    "\n",
    "**Text Editor:** Files on your computer are just a bunch of bytes (strings of 0's and 1's) on your harddrive. A plain text editor reads these as characters via ASCII, which is a dictionary that converts bytes to characters (like how Ribosomes convert RNA base pairs to amino acids). So you can start a new file using an editor like emacs, vi, or notepad, and write something there like \"Hello world.\" and then save it as \"hello.txt\" or \"hello\" or whatever. Then it writes the bytes that those characters correspond to on your hard drive. If you do the same thing in Word and save it as a Word file, then Word converts it to a different set of bytes and this process is proprietary (it is a closely guarded secret like the recipe for CocaCola). Never send me a Word document, when I open it in emacs it will look like \\320\\317^Q\\340\\241\\261^Z\\341^@^@^@^@^@^@^@^@ and you may lose points.\n",
    "\n",
    "One way to write code is to just select a text editor that you like and stick with it for all of your coding needs. Common choices are emacs, vim, sublime, notepad++, atom, etc. All of these have syntax highlighting, but you may need to do some work to enable it depending on your install. The most universal editors are vim and emacs, and they have their own hotkeys and interfaces. I use emacs, but that's because my mentor used emacs, I am using it to write this. Vim seems to have a cult following, but it feels willfully obtuse to me. I cannot help you with anything other than emacs, but in general I'll leave it up to you to figure out how to use your text editor.  If you want to use spyder (which I would recommend), then you should open a terminal or shell, and run `conda install spyder`.  Spyder is an interactive development environment (IDE) which allows you to write code and test it ipython.\n",
    "\n",
    "**Checkpoint 2:** Install a text editor of your choice and learn to open a new file, copy and paste (kill and yank in emacs), search and replace strings, move the cursor around, save and close the file. (You may want to figure out how to do more advanced things.) Write a file called arch.txt and write your computer specs in it.\n",
    "\n",
    "**Python:** You will need to have python installed, but first you should check if python is already on your machine. If you are using linux or Mac OS then open a terminal and type: python -V. It will throw an error if python is not installed. On a server I get:\n",
    "\n",
    "```$ python -V\n",
    "Python 3.6.1 :: Anaconda 4.4.0 (64-bit)```\n",
    "\n",
    "So my python version is 3.6.1, which impacts the packages that are available to me. Python 2.7 is a more universal version, but our code should work on both versions.\n",
    "\n",
    "**Checkpoint 3:** Run python by typing `python` in the command prompt/terminal. If it is not recognized then it's probably not in your PATH, which is a environment variable that allows you to run an executable without finding its location in your filesystem. If you have installed anaconda correctly, then you will have `Python 3.6.1 |Anaconda 4.4.0 (64-bit)`.  Type 2+2 and hit Enter in the python shell that should've openned up.\n",
    "\n",
    "**ipython:** ipython is an interactive shell for python, that has fancy things like tab completion, debugging, and magic commands. You just used the python shell, and ipython is just a more fancy version of this. You should have pip installed somewhere on your machine and it may already be in your PATH. On my Windows laptop, it's at C:\\Python27\\Scripts\\pip, so in the Scripts directory I can run pip install ipython which installs ipython.\n",
    "\n",
    "**Checkpoint 4:** Run ipython from the command prompt/terminal. Type \"pr\" and hit TAB, then hit \"i\" and TAB again. Then finish the line and run print(\"Hello World\"). Then run the following: %timeit 2+2.\n",
    "\n",
    "You've just seen what tab autocompletion does, and had an example of the magic command %timeit. I found out that it takes 14.6 nanoseconds to run 2+2.  Let's start a running example though out this module so that we can see some of the things that we hope to do.\n",
    "\n",
    "**Jupyter notebook:** ipython is great for all of the fancy features that it has, but it's doesn't help you walk someone through your code. That's why they invented the ipython notebook, which was later turned into jupyter.  You're looking at a jupyter notebook right now! To install run `conda install jupyter` and then you can go to a directory with code that you would edit and run `jupyter notebook`. Then your browser should open and you should see the file directory there.\n",
    "\n",
    "**Checkpoint 5:** Look through this [excellent tutorial on jupyter](https://www.dataquest.io/blog/jupyter-notebook-tips-tricks-shortcuts/) to see many of the ways that you can use it.\n",
    "\n",
    "### Example: opencorporates\n",
    "This example will be beyond what most of you know, and to learn all of these tools is the point of this course.  Try to guess what is going on in the code below.\n",
    "\n",
    "We start our code section by importing our packages.\n",
    "* requests: let's us make HTTP requests to webservers\n",
    "* pandas: dataframes support for python\n",
    "* matplotlib: plotting tools"
   ]
  },
  {
   "cell_type": "code",
   "execution_count": 1,
   "metadata": {
    "collapsed": true
   },
   "outputs": [],
   "source": [
    "# Let's import our packages\n",
    "import requests\n",
    "import pandas as pd\n",
    "from matplotlib import pyplot as plt\n",
    "plt.style.use('ggplot')\n",
    "%matplotlib inline"
   ]
  },
  {
   "cell_type": "code",
   "execution_count": 2,
   "metadata": {
    "collapsed": true
   },
   "outputs": [],
   "source": [
    "def opencorp_query(search_term, page=1):\n",
    "    \"\"\"Make the HTTP request for a search term in opencorporates\"\"\"\n",
    "    query_params = {'q':search_term, 'page':str(page)}\n",
    "    qurl = \"https://api.opencorporates.com/v0.4/companies/search\"\n",
    "    try:\n",
    "        OC_req = requests.get(qurl, params=query_params)   #Form the query url    \n",
    "        try:\n",
    "            print(OC_req.json()['error']['message']) #Catch rate limit errors\n",
    "            return False\n",
    "        except KeyError: \n",
    "            return OC_req #Success!\n",
    "    except requests.HTTPError: #Catch HTTP errors\n",
    "        return False"
   ]
  },
  {
   "cell_type": "code",
   "execution_count": 19,
   "metadata": {},
   "outputs": [
    {
     "name": "stdout",
     "output_type": "stream",
     "text": [
      "https://api.opencorporates.com/v0.4/companies/search?q=google&page=1\n"
     ]
    }
   ],
   "source": [
    "search_term = \"google\" #set the search term\n",
    "OC_req = opencorp_query(search_term) #return the HTTP request\n",
    "if OC_req:\n",
    "    print(OC_req.url)\n",
    "    comp_json = OC_req.json()\n",
    "    numpages = comp_json['results']['total_pages'] #get the number of pages\n",
    "    google = pd.DataFrame() #initialize a dataframe"
   ]
  },
  {
   "cell_type": "code",
   "execution_count": 20,
   "metadata": {},
   "outputs": [
    {
     "data": {
      "text/plain": [
       "25"
      ]
     },
     "execution_count": 20,
     "metadata": {},
     "output_type": "execute_result"
    }
   ],
   "source": [
    "numpages"
   ]
  },
  {
   "cell_type": "code",
   "execution_count": 21,
   "metadata": {},
   "outputs": [
    {
     "name": "stdout",
     "output_type": "stream",
     "text": [
      "This operation requires an api token\n",
      "This operation requires an api token\n",
      "This operation requires an api token\n",
      "This operation requires an api token\n"
     ]
    }
   ],
   "source": [
    "for i in range(numpages-1):\n",
    "    oc_ret = opencorp_query(search_term,page=i+1)\n",
    "    if oc_ret:\n",
    "        comp_json = oc_ret.json() #make request for page                                                                                                                      \n",
    "    try:\n",
    "        names = [c['company']['name'] for c in comp_json['results']['companies']] #extract corp name\n",
    "        created_at = [c['company']['created_at'] for c in comp_json['results']['companies']] #created_at date\n",
    "        jur = [c['company']['jurisdiction_code'] for c in comp_json['results']['companies']] #jurisdiction code\n",
    "        inactive = [c['company']['inactive'] for c in comp_json['results']['companies']] #is it active?\n",
    "        google = google.append(pd.DataFrame({'name':names, 'created_at':created_at, \n",
    "                               'jurisdiction':jur, 'inactive':inactive}))\n",
    "    except KeyError:\n",
    "        continue"
   ]
  },
  {
   "cell_type": "code",
   "execution_count": 22,
   "metadata": {},
   "outputs": [
    {
     "data": {
      "text/html": [
       "<div>\n",
       "<style>\n",
       "    .dataframe thead tr:only-child th {\n",
       "        text-align: right;\n",
       "    }\n",
       "\n",
       "    .dataframe thead th {\n",
       "        text-align: left;\n",
       "    }\n",
       "\n",
       "    .dataframe tbody tr th {\n",
       "        vertical-align: top;\n",
       "    }\n",
       "</style>\n",
       "<table border=\"1\" class=\"dataframe\">\n",
       "  <thead>\n",
       "    <tr style=\"text-align: right;\">\n",
       "      <th></th>\n",
       "      <th>created_at</th>\n",
       "      <th>inactive</th>\n",
       "      <th>jurisdiction</th>\n",
       "      <th>name</th>\n",
       "    </tr>\n",
       "  </thead>\n",
       "  <tbody>\n",
       "    <tr>\n",
       "      <th>0</th>\n",
       "      <td>2017-04-06T09:06:17+00:00</td>\n",
       "      <td>False</td>\n",
       "      <td>bo</td>\n",
       "      <td>\"GOOGLE\" IMPORT. EXPORT.</td>\n",
       "    </tr>\n",
       "    <tr>\n",
       "      <th>1</th>\n",
       "      <td>2011-10-19T07:36:19+00:00</td>\n",
       "      <td>None</td>\n",
       "      <td>us_de</td>\n",
       "      <td>ADMOB GOOGLE INC.</td>\n",
       "    </tr>\n",
       "    <tr>\n",
       "      <th>2</th>\n",
       "      <td>2014-08-31T20:57:39+00:00</td>\n",
       "      <td>True</td>\n",
       "      <td>hk</td>\n",
       "      <td>AMERICA GOOGLE TECHNOLOGY LIMITED</td>\n",
       "    </tr>\n",
       "    <tr>\n",
       "      <th>3</th>\n",
       "      <td>2011-01-13T12:31:33+00:00</td>\n",
       "      <td>False</td>\n",
       "      <td>nl</td>\n",
       "      <td>Aarts International B.V.</td>\n",
       "    </tr>\n",
       "    <tr>\n",
       "      <th>4</th>\n",
       "      <td>2015-09-17T17:58:10+00:00</td>\n",
       "      <td>True</td>\n",
       "      <td>us_co</td>\n",
       "      <td>Andrew Google LLC</td>\n",
       "    </tr>\n",
       "  </tbody>\n",
       "</table>\n",
       "</div>"
      ],
      "text/plain": [
       "                  created_at inactive jurisdiction  \\\n",
       "0  2017-04-06T09:06:17+00:00    False           bo   \n",
       "1  2011-10-19T07:36:19+00:00     None        us_de   \n",
       "2  2014-08-31T20:57:39+00:00     True           hk   \n",
       "3  2011-01-13T12:31:33+00:00    False           nl   \n",
       "4  2015-09-17T17:58:10+00:00     True        us_co   \n",
       "\n",
       "                                name  \n",
       "0           \"GOOGLE\" IMPORT. EXPORT.  \n",
       "1                  ADMOB GOOGLE INC.  \n",
       "2  AMERICA GOOGLE TECHNOLOGY LIMITED  \n",
       "3           Aarts International B.V.  \n",
       "4                  Andrew Google LLC  "
      ]
     },
     "execution_count": 22,
     "metadata": {},
     "output_type": "execute_result"
    }
   ],
   "source": [
    "google.head()"
   ]
  },
  {
   "cell_type": "code",
   "execution_count": 23,
   "metadata": {},
   "outputs": [
    {
     "data": {
      "image/png": "[encoded data removed]",
      "text/plain": [
       "<matplotlib.figure.Figure at 0x72349ab6f470>"
      ]
     },
     "metadata": {},
     "output_type": "display_data"
    }
   ],
   "source": [
    "## Plot a pie chart of jurisdictions\n",
    "num_rec = google.shape[0]\n",
    "us_ind = google[\"jurisdiction\"].str.startswith(\"us\")\n",
    "labels = \"US active\", \"US inactive\", \"Foreign active\", \"Foreign inactive\", \"Missing\"\n",
    "bool_coef = [(True,False),(True,True),(False,False),(False, True)]\n",
    "sizes = [((us_ind==a[0]) & (google[\"inactive\"]==a[1])).sum() for a in bool_coef]\n",
    "sizes.append(num_rec - sum(sizes))\n",
    "_ = plt.pie(sizes,labels=labels)"
   ]
  },
  {
   "cell_type": "markdown",
   "metadata": {},
   "source": [
    "Pie chart of the number of companies returned from the google query that are in the US or foreign and are active or not. This is just one of thousands of things that you can extract from this rich dataset.  You should be able to see where we made the requests to the opencorporates.com API, how we created and populated the dataframe, and where we created the pie chart."
   ]
  }
 ],
 "metadata": {
  "kernelspec": {
   "display_name": "Python 3",
   "language": "python",
   "name": "python3"
  },
  "language_info": {
   "codemirror_mode": {
    "name": "ipython",
    "version": 3
   },
   "file_extension": ".py",
   "mimetype": "text/x-python",
   "name": "python",
   "nbconvert_exporter": "python",
   "pygments_lexer": "ipython3",
   "version": "3.6.1"
  }
 },
 "nbformat": 4,
 "nbformat_minor": 2
}
