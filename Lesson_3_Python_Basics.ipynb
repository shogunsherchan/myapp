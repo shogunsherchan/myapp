{
 "cells": [
  {
   "cell_type": "markdown",
   "metadata": {},
   "source": [
    "Lesson 3: Introduction to Python\n",
    "====================\n",
    "---\n",
    "Prof. James Sharpnack<br>\n",
    "Statistics Department, UC Davis<br>\n",
    "&copy; 2017"
   ]
  },
  {
   "cell_type": "markdown",
   "metadata": {},
   "source": [
    "## Why Python?\n",
    "\n",
    "Python was developed in 1991 by Guido van Rossum because the popular procedural languages of the time (perl, C, Fortran, etc.) were deficient for many common tasks.  C (Dennis Ritchie, 1973) is great for writing fast optimized code, but it suffers from flexibility because of the need to declare variables, and the thin layer of abstraction (you are a bit closer to the machine).  Perl (Larry Wall, 1987) is great for writing scripts that interacted with unix, processed strings, and being able to do this quickly with minimal effort.  One common complaint of Perl is that it was very easy to write nearly unreadable code in Perl (aka line garbage), and it is filled with heuristics.  Python is like Perl in that there is sufficient abstraction to write code without thinking too much about memory allocation and type compatibility, but unlike Perl, it emphasizes readibility.  Python and Perl are both interpreted languages, meaning that they come with interpreters that will run code line by line as you execute them, while C is compiled, meaning that you write code and then a program, called a compiler, converts it into machine code (code that the CPU can directly read).\n",
    "\n",
    "For these reasons, Python's popularity has grown, so that now it is the 2nd most popular language after Java.  One advantage of this is that there exist tons of great packages for Python, such as numpy, scipy, matplotlib, etc.  That is why we use Python for data science.  Matlab and C++ are going to be typically faster, but it is often wiser to go out and find a package that already implements what you want to do, so that you don't have to code everything from scratch (and it will probably be a much faster implementation).  While most of this course will be about using different packages in python, you need to learn the basic python syntax, because inevitably you will need to program basic things by hand."
   ]
  },
  {
   "cell_type": "markdown",
   "metadata": {},
   "source": [
    "## Python Syntax\n",
    "There are many python basics resources online, here is a short list:\n",
    "1. [Norm Matloff's python material](http://heather.cs.ucdavis.edu/~matloff/python.html)\n",
    "1. [The Python Homepage](https://www.python.org/)\n",
    "1. [Google's intro to Python](https://developers.google.com/edu/python/introduction)\n",
    "1. [These course notes, S.R. Doty](http://anh.cs.luc.edu/331/notes/PythonBasics.pdf)\n",
    "      \n",
    "**Checkpoint:** Go through the Google course's [introduction section (single page)](https://developers.google.com/edu/python/introduction).\n",
    "\n",
    "In the class, we will make use of the peculiarities to python, such as list comprehensions.  I will call these oddities *pythonic* since they are critical to writing quality python code.  One oddity is that whitespace has meaning in python.  Loops, functions, and classes cause a block of code to be indented, and if you break the indexing then there may be errors.  This seems cumbersome at first, but it does two things that I like: (1) it makes all code more readable, and (2) it induces you to write more flat code.  I would encourage you to write very flat code when possible.  Flat code prevents nested for loops (a common issue for slow code) and it usually means that you are taking advantage of the packages that are available to you.\n",
    "\n",
    "Python is dynamically typed and just-in-time compiled.  Dynamic typing means that the type of the variable (Int, string, float, etc.) does not have to be declared before its use, and the type can change throughout the script.  Just-in-time compiled is what makes the ipython interpreter work the way that it does.  When you run a line of code, the python interpreter (ipython) will convert it into machine code just in time to run it.  This is a benefit when you are debugging and writing the typical data science code, but it results in slower performance, which is often because of an instable variable (the type changes very often).  \n",
    "\n",
    "**Checkpoint:** Go through the Google course sections: [Strings, Lists, Sorting (read list comprehensions), Dicts and Files]((https://developers.google.com/edu/python/strings).  While you read this you should have ipython open and try some of the test code there."
   ]
  },
  {
   "cell_type": "markdown",
   "metadata": {},
   "source": [
    "## Elements of Style\n",
    "In order to write nice code, you should do a few things. (This was partially derived from (the python guide)[https://media.readthedocs.org/pdf/python-guide/latest/python-guide.pdf]).\n",
    "\t<ul>\n",
    "\t  <li>Modularize your code with def</li>\n",
    "\t  <li>Make somewhat informative variable names (don't just use a,b,c,...) and try to use a variable name for only one thing - don't recycle variable names for different typed objects</li>\n",
    "\t  <li>Write comments (or markdown in Jupyter) explaining what you're doing</li>\n",
    "\t  <li>Break complicated things into multiple lines, and use one statement per line.</li>\n",
    "\t</ul>\n",
    "\tThere are many python idioms (coding practices) that are pythonic.\n",
    "\tOne such thing is tuple unpacking, where you assign values to multiple variables:\n",
    "\t`i,j = (1,2)`.  Here we assigned i=1 and j=2 in one line.\n",
    "\tAnother is list comprehensions and generators.\n",
    "\tFor example, if you want to create a list of the first 100 square numbers then you could use a for loop:\n",
    "~~~~\n",
    "squares = []\n",
    "for i in range(100):\n",
    "    squares.append(i**2)\n",
    "~~~~\n",
    "Or you could do it in one line with `squares = [i**2 for i in range(100)]`.\n",
    "Here a new list was created with a new element for each i in the range(100) object (recall that range(100) returns a list of increasing integers from 1 to 100).  This typically will run faster than the above block.  There are many other idioms that I hope you will pick up along the way.\n",
    "\n",
    "You should also avoid black magic in your code, when a more clear and simple way to do something is possible.  For example, the following is possible...\n",
    "~~~~\n",
    "def make_complex(*args): #Bad\n",
    "    x, y = args\n",
    "    return dict(**locals())\n",
    "~~~~\n",
    "but the following is more clear and concise,\n",
    "~~~~\n",
    "def make_complex(x, y): #Good\n",
    "    return {'x': x, 'y': y}\n",
    "~~~~\n",
    "Python is object oriented, which is a good thing to realize, but you are not forced to use the OO nature of it at all times.  For example, it is good to know that object methods can be accessed as in `my_list.append(new_element)`, and that the append method is specific to the list type.  But, you can very easily get carried away with making superfluous classes, especially when you first learn OO programming.  A good principle is 'you aren't gonna need it' (YAGNI) which says that you only program something when you need it.  So if you are creating a structure, such as a tuple and a list to indicate an event in a calendar (datetime, location, participants) and you are going to *need* to make many of them and do similar operations, then it is appropriate to make a class.  But if you are defining some properties of a dataset, and you have no reason to think that you will see a dataset of that type again, then there is no need to create a new class for that dataset type."
   ]
  }
 ],
 "metadata": {
  "kernelspec": {
   "display_name": "Python 3",
   "language": "python",
   "name": "python3"
  },
  "language_info": {
   "codemirror_mode": {
    "name": "ipython",
    "version": 3
   },
   "file_extension": ".py",
   "mimetype": "text/x-python",
   "name": "python",
   "nbconvert_exporter": "python",
   "pygments_lexer": "ipython3",
   "version": "3.6.1"
  }
 },
 "nbformat": 4,
 "nbformat_minor": 2
}
