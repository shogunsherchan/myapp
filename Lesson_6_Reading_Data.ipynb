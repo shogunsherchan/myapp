{
 "cells": [
  {
   "cell_type": "markdown",
   "metadata": {},
   "source": [
    "Lesson 6: Reading data in python\n",
    "====================\n",
    "---\n",
    "Prof. James Sharpnack<br>\n",
    "Statistics Department, UC Davis<br>\n",
    "&copy; 2017"
   ]
  },
  {
   "cell_type": "markdown",
   "metadata": {},
   "source": [
    "**References: **\n",
    "- [Python docs](https://docs.python.org/2/tutorial/inputoutput.html)\n",
    "- [CSV docs](https://docs.python.org/2/library/csv.html)\n",
    "- [Pandas I/O documentation](http://pandas.pydata.org/pandas-docs/stable/io.html)"
   ]
  },
  {
   "cell_type": "markdown",
   "metadata": {},
   "source": [
    "## Open, csv, and file type\n",
    "\n",
    "Python has built in input/output functionality, and it is important to understand it. There are faster ways to load well formatted files, like CSVs, excel files, etc, but you may need to fall back on this basic functionality. The open command creates a file object, which is an iterator, and has methods read, readline, write, seek which allow you to move and read within the file. The open command takes the filename (and path), and mode (read, write, both). The file object is also an iterator, and the next method returns each line in succession.\n",
    "\n",
    "The CSV package is specifically designed for reading delimited files. It gives us back an iterator that works much like the file object, except that you can specify what is the delimiter (tab, space, comma, etc.), and what is the quote character (typically \"\"). This way the commas that are in quoted regions will not be interpretted as delimiters.  \n",
    "\n",
    "**Checkpoint:** Look through the [CSV docs](https://docs.python.org/2/library/csv.html)."
   ]
  },
  {
   "cell_type": "markdown",
   "metadata": {},
   "source": [
    "## Pandas read_*\n",
    "\n",
    "We have not gone over the Pandas dataframe yet (it is a data table, like what is in R), but we can see how advanced the package is just in its I/O. The read_csv command has a few different ways of working. If you specify that you want an iterator, with the iterator argument, then you can get something that works like the CSV reader object. You can also specify a chunksize, and then it returns an iterator that will read the file in chunks (the first k likes, then the next k, etc.), which is great for files that you cannot store in memory. By default read_csv loads the file all at once.\n",
    "\n",
    "**Checkpoint:** Read through the [Pandas I/O documentation](http://pandas.pydata.org/pandas-docs/stable/io.html) for read_csv, read_excel, read_hdf and pay attention to the arguments."
   ]
  },
  {
   "cell_type": "markdown",
   "metadata": {},
   "source": [
    "## Data latency and reading in chunks\n",
    "\n",
    "We have talked about how the computer architecture determines the speed at which you can access different bits of memory.\n",
    "For example, to read 1MB from the main memory, which is where your variables are stored, takes roughly 0.25 milliseconds.\n",
    "To read 1MB from a solid state drive takes 1 millisecond, and to read 1MB from a hard disk takes 20 milliseconds.\n",
    "Reading data over a network depends on the speed of routing packets across that network, but it typically is greater than 10 times as slow as reading from disk.\n",
    "When working with big data, it is very common to have many GB of data in multiple drives over a network.\n",
    "The standard way to deal with this is to read the data from drive sequentially, and only store what is needed in memory.\n",
    "You can find a more complete list of latency numbers [in this Github page, adapted from a talk by Jeff Dean](https://gist.github.com/jboner/2841832).\n",
    "\n",
    "Pandas is great for this, because the `read_*` commands can return an iterator by using the `iterator, chunksize` as we have already meantioned.\n",
    "If you specify these arguments then instead of returning a Dataframe, it returns a TextFileReader object.\n",
    "This TextFileReader is iterable and \n",
    "\n",
    "**Checkpoint:** read [this brief section](http://pandas.pydata.org/pandas-docs/stable/io.html#io-chunking) on chunking in the docs page</h3>\n"
   ]
  }
 ],
 "metadata": {
  "kernelspec": {
   "display_name": "Python 3",
   "language": "python",
   "name": "python3"
  },
  "language_info": {
   "codemirror_mode": {
    "name": "ipython",
    "version": 3
   },
   "file_extension": ".py",
   "mimetype": "text/x-python",
   "name": "python",
   "nbconvert_exporter": "python",
   "pygments_lexer": "ipython3",
   "version": "3.6.1"
  }
 },
 "nbformat": 4,
 "nbformat_minor": 2
}
