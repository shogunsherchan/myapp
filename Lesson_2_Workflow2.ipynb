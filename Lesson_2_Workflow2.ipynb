{
 "cells": [
  {
   "cell_type": "markdown",
   "metadata": {},
   "source": [
    "Lesson 2: Your data science workflow, part 2\n",
    "====================\n",
    "---\n",
    "Prof. James Sharpnack<br>\n",
    "Statistics Department, UC Davis<br>\n",
    "&copy; 2017"
   ]
  },
  {
   "cell_type": "markdown",
   "metadata": {},
   "source": [
    "## What is a versioning system?\n",
    "\n",
    "Git is an open source software (code that is free to use and develop by anyone) that provides version control. Imagine that you are working with team of people on the same file, say you all have access to the same Dropbox directory. You could all change the same file, but then when any of you syncs your changes then it will overwrite the other changes. You could set times to edit, such as Don edits from 10am-12pm, Peggy edits from 12pm-2pm, and Joan edits from 2pm-4pm. Or you could keep versions of files by changing the file name, so when I edit lucky_strikes_v3.py then I edit and save as lucky_strikes_v4.py. These all seem cumbersome, and versioning systems provide a better way. Git (and other versioning systems) provides the following features:\n",
    "\n",
    "- A history of changes to files serving as a backup.\n",
    "- Developers can work concurrently and then with the help of git merge their changes.\n",
    "- Tracing what changes were made by whom when.\n",
    "\n",
    "I will present the functionality of git via the command line. In 141C, you will learn much more about using linux, but I would encourage you to take this time to start using it now with either cloud computing or by installing linux on your own machine. While you can start a git repository on any linux machine, we will focus on using GitHub as a central repository. So while I will make you learn what is going on behind the scenes, you can use the GitHub client most of the time. Some resources about using git with the command line are here (use these as a reference):\n",
    "\n",
    "- [Git tutorials by Atlassian](https://www.atlassian.com/git/tutorials)\n",
    "- [Git command cheat sheet](https://www.git-tower.com/blog/git-cheat-sheet/)\n",
    "\n",
    "**Checkpoint 1:** Complete the [GitHub git tutorial](https://try.github.io/), and download git client for Mac, Windows, or install on linux (google git install for your linux distribution)\n",
    "\n",
    "Start your github repo!"
   ]
  },
  {
   "cell_type": "markdown",
   "metadata": {},
   "source": [
    "## The languages on Jupyter\n",
    "\n",
    "Jupyter is a web application which is intended to facilitate data science.  This means you can program your data analyses in jupyter, but also you are able to provide textual descriptions of the analysis.  If you look at the toolbar there is a dropdown that says markdown or code, which indicates if you are working in a markdown cell or a code cell.  Your language for the code cells is specified by your kernel (I am currently working in python 3).  Jupyter stands for Julia, Python, and R, which are 3 of the best languages for doing data analyses.  Julia is the fastest but has the fewest packages, Python is the most versatile and has the widest range of packages, and R has the most statistical packages but it is more challenging to write efficient code.\n",
    "\n",
    "Python and the other programming languages are sequential programming languages (aka imperative languages), in that you instruct the machine to run instructions in sequence.  Other languages, such as HTML, SQL, TeX, are declarative languages because they consist of logical statements that can be interpreted in a number of ways.  HTML, Markdown, and TeX equations can be used in a markdown cell in the Jupyter notebook.  This means that I can write things like.\n",
    "\n",
    "**Theorem.** [<a href=\"https://en.wikipedia.org/wiki/Fermat%27s_Last_Theorem\">Observatio Domini Petri de Fermat</a>] There does not exist three positive integers $a,b,c \\in \\mathbb Z_+$, such that \n",
    "$$\n",
    "a^n + b^n = c^n,\n",
    "$$\n",
    "for $n > 3$.\n",
    "\n",
    "If you hit Enter when highlighting this cell you can see the markdown that generated this statement.\n",
    "Markdown is a light version of a markup language.\n",
    "The hypertext markup language (HTML) is used to modify text with tags such as &lt;a href=\"google.com\"&gt;Google&lt;\\a &gt; to make a link to <a href=\"http://google.com\">Google</a>.  Such hyperlinks made it possible for Google's founders to scrape the web and build a graph of the webpages and their links to eachother, which is the dataset for the Pagerank algorithm.  Markdown uses wiki-like elements to modify text, such as bolding, headers, links, lists.  This makes it more lightweight than HTML, where you have to write out whole tags.  You should familiarize yourself with the basic markdown syntax so that you can use it in your data analysis projects.\n",
    "\n",
    "**Checkpoint:** Using the [Markdown Cheatsheet](https://guides.github.com/pdfs/markdown-cheatsheet-online.pdf) play with markdown cells by creating hyperlinks, bolding, headers, lists (enumerated and unordered), etc.  You need to get to a point where you can easily annotate a jupyter notebook and provide structure to make it nice to read."
   ]
  }
 ],
 "metadata": {
  "kernelspec": {
   "display_name": "Python 3",
   "language": "python",
   "name": "python3"
  },
  "language_info": {
   "codemirror_mode": {
    "name": "ipython",
    "version": 3
   },
   "file_extension": ".py",
   "mimetype": "text/x-python",
   "name": "python",
   "nbconvert_exporter": "python",
   "pygments_lexer": "ipython3",
   "version": "3.6.1"
  }
 },
 "nbformat": 4,
 "nbformat_minor": 2
}
