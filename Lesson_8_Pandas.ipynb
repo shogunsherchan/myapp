{
 "cells": [
  {
   "cell_type": "markdown",
   "metadata": {},
   "source": [
    "Lesson 8: Data wrangling with Pandas\n",
    "====================\n",
    "---\n",
    "Prof. James Sharpnack<br>\n",
    "Statistics Department, UC Davis<br>\n",
    "&copy; 2018"
   ]
  },
  {
   "cell_type": "markdown",
   "metadata": {},
   "source": [
    "## Why learn Pandas?\n",
    "      \n",
    "The dataframe is a data type that acts like a table (think of excel tables).\n",
    "The idea is that there are fields (or columns) and then there are different records that have those fields.\n",
    "Think of individuals that have attributes and then a dataset of many such individuals.\n",
    "Matlab is built around the matrix type, for which we use numpy.\n",
    "R is built around the dataframe type, and for this in python we have pandas.\n",
    "There are several advantages that pandas gives us that we cannot get from numpy and the array type.\n",
    "You should read the more complete list <a href=\"http://pandas.pydata.org/pandas-docs/stable/\">here</a>, but here are what I think are the main advantages to pandas.\n",
    "\n",
    "- Great I/O (input/output), for reading files of different extensions, reading from sql database systems, and writing the dataframes\n",
    "- Fancy slicing and subsetting\n",
    "- SQl-like features such as grouping, indexing, and joining.\n",
    "- Nice handling of missingness "
   ]
  },
  {
   "cell_type": "markdown",
   "metadata": {},
   "source": [
    "## DataFrames and Series in Pandas\n",
    "\n",
    "Pandas is built around the data types: DataFrames, Series.  Roughly, a Series is a list of indices and values (think of a time series where the datatime is the index), and a DataFrame is a dictionary where the keys are the column names and the values are entire Series, and these Series have a common index.  You can think of a list having integer indices, i.e. `somelist[50]` will give you the 50th entry of the list.  In R, the row indices are primarily indices, while Pandas is designed for use with indices of various types.  Because a Series is like a vector with arbitrary indices, you can element-wise add, subtract, divide two Series with common indices.  DataFrames are tables that you can join, group, transform, and slice.\n",
    "\n",
    "We have already seen how to read DataFrames from CSVs, so let's focus on how to slice the DataFrame.  There are several ways to do this: with an index range, by column names, with a boolean Series, using the `DataFrame.loc, DataFrame.iloc` methods.  Many of these should be familiar to the R programmer, while some are new.  In some sense, Pandas makes indexing mandatory, so that if your index is a datetime or location, then you are discouraged from slicing by integer ranges (although you can always use iloc).  Indexing is primarily how Pandas is different from numpy, and why DataFrames are different from matrices.\n",
    "\n",
    "**Checkpoint:** go through the sections on Series and DataFrames in the following <a href=\"http://pandas.pydata.org/pandas-docs/stable/dsintro.html\">Pandas documentation</a>\n",
    "\n",
    "Series can accommodate elementwise operations, and it has similar slicing to DataFrames, with a few exceptions.  It is important to understand the difference between a DataFrame and a Series.  Really, a DataFrame is a Series valued dictionary.  There are many ways to initialize a DataFrame.  While it is more common to create a DataFrame by reading it from files, it is good to know how to do this.  Keep in mind that if you are creating a list, dictionary, etc. from a DataFrame and then creating a new DataFrame, then there may be a more efficient way to do what you're doing using Pandas directly."
   ]
  },
  {
   "cell_type": "markdown",
   "metadata": {},
   "source": [
    "## Plotting with Pandas\n",
    "\n",
    "Skip over the section about indexing in the notebook, we will get to that next lesson.  All of what we learned about matplotlib still applies to pandas objects.  You can pass Series to `plt.plot, plt.hist, ...` but there is a simpler way to do it with Pandas.  You can use the `DataFrame.plot` method to do things in a bit more parsimonious way.\n",
    "\n",
    "**Checkpoint:** Look over the <a href=\"http://pandas.pydata.org/pandas-docs/stable/generated/pandas.DataFrame.plot.html\">plot method documentation</a>."
   ]
  }
 ],
 "metadata": {
  "kernelspec": {
   "display_name": "Python 3",
   "language": "python",
   "name": "python3"
  },
  "language_info": {
   "codemirror_mode": {
    "name": "ipython",
    "version": 3
   },
   "file_extension": ".py",
   "mimetype": "text/x-python",
   "name": "python",
   "nbconvert_exporter": "python",
   "pygments_lexer": "ipython3",
   "version": "3.6.1"
  }
 },
 "nbformat": 4,
 "nbformat_minor": 2
}
